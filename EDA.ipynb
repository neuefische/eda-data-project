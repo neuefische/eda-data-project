{
 "cells": [
  {
   "cell_type": "markdown",
   "metadata": {},
   "source": [
    "# EDA\n",
    "\n",
    "![](data:image/jpeg;base64,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)"
   ]
  },
  {
   "cell_type": "code",
   "execution_count": 151,
   "metadata": {},
   "outputs": [],
   "source": [
    "import warnings\n",
    "\n",
    "warnings.filterwarnings(\"ignore\")\n",
    "\n",
    "import pandas as pd\n",
    "import numpy as np\n",
    "import matplotlib.pyplot as plt\n",
    "import seaborn as sns\n",
    "import plotly.express as px\n",
    "from scipy.stats import linregress\n",
    "\n",
    "\n",
    "from matplotlib.ticker import PercentFormatter\n",
    "plt.rcParams.update({ \"figure.figsize\" : (8, 5),\"axes.facecolor\" : \"white\", \"axes.edgecolor\":  \"black\"})\n",
    "plt.rcParams[\"figure.facecolor\"]= \"w\"\n",
    "pd.plotting.register_matplotlib_converters()\n",
    "pd.set_option('display.float_format', lambda x: '%.3f' % x)"
   ]
  },
  {
   "cell_type": "code",
   "execution_count": null,
   "metadata": {},
   "outputs": [],
   "source": [
    "df = pd.read_csv(\"data/eda.csv\")\n",
    "df.head()"
   ]
  },
  {
   "cell_type": "code",
   "execution_count": 3,
   "metadata": {},
   "outputs": [
    {
     "data": {
      "text/plain": [
       "(21597, 23)"
      ]
     },
     "execution_count": 3,
     "metadata": {},
     "output_type": "execute_result"
    }
   ],
   "source": [
    "df.shape"
   ]
  },
  {
   "cell_type": "code",
   "execution_count": null,
   "metadata": {},
   "outputs": [],
   "source": [
    "df.columns"
   ]
  },
  {
   "cell_type": "code",
   "execution_count": null,
   "metadata": {},
   "outputs": [],
   "source": [
    "df.info()\n",
    "df.describe()"
   ]
  },
  {
   "cell_type": "code",
   "execution_count": null,
   "metadata": {},
   "outputs": [],
   "source": [
    "#df.columns = df.columns.str.replace(\"sold_for_sold_for_price\",\"sold_for_price\")\n",
    "df.columns"
   ]
  },
  {
   "cell_type": "markdown",
   "metadata": {},
   "source": [
    "Check for Duplicates:\n",
    "Maybe a house was sold several times"
   ]
  },
  {
   "cell_type": "code",
   "execution_count": null,
   "metadata": {},
   "outputs": [],
   "source": [
    "df.id.duplicated().value_counts()"
   ]
  },
  {
   "cell_type": "code",
   "execution_count": null,
   "metadata": {},
   "outputs": [],
   "source": [
    "df.id = df.id.round(0)\n",
    "df.bedrooms.unique()\n",
    "df.bedrooms = df.bedrooms.round(0)\n",
    "df.bathrooms.unique()\n",
    "df.bathrooms = df.bathrooms.round(2)\n",
    "df.sqft_living = df.sqft_living.round(0)\n",
    "df.sqft_above = df.sqft_above.round(0)\n",
    "df.sqft_basement = df.sqft_basement.round(0)\n",
    "df.sqft_living15 = df.sqft_living15.round(0)\n",
    "df.sqft_lot = df.sqft_lot.round(0)\n",
    "type(df.date_sold)"
   ]
  },
  {
   "cell_type": "code",
   "execution_count": null,
   "metadata": {},
   "outputs": [],
   "source": [
    "#df.columns = df.columns.str.replace(\"date_sold_sold\",\"date_sold\")\n",
    "#df.columns = df.columns.str.replace(\"yr\",\"year\")\n",
    "df.columns"
   ]
  },
  {
   "cell_type": "code",
   "execution_count": null,
   "metadata": {},
   "outputs": [],
   "source": [
    "df['date_sold'] = pd.to_datetime(df['date_sold'], format='%Y-%m-%d')\n",
    "df[\"date_sold_year\"]=df[\"date_sold\"].dt.year\n",
    "df[\"date_sold_month\"]=df[\"date_sold\"].dt.month\n",
    "df[\"date_sold_day\"]=df[\"date_sold\"].dt.dayofweek\n",
    "df.columns"
   ]
  },
  {
   "cell_type": "markdown",
   "metadata": {},
   "source": [
    "As the id and house_id are the same, let's erase the house_id from the table."
   ]
  },
  {
   "cell_type": "code",
   "execution_count": null,
   "metadata": {},
   "outputs": [],
   "source": [
    "#df_1 = df.drop(\"house_id\",axis=1,inplace=True)\n",
    "#Do not run this cell"
   ]
  },
  {
   "cell_type": "code",
   "execution_count": null,
   "metadata": {},
   "outputs": [],
   "source": [
    "df.bedrooms = df.bedrooms.round(0)\n",
    "df.columns\n",
    "df.date_sold_year.value_counts()"
   ]
  },
  {
   "cell_type": "markdown",
   "metadata": {},
   "source": [
    "The following table provides an overview over the housing data set:\n",
    "\n",
    "| Column          | Description                                                   |\n",
    "|-----------------|---------------------------------------------------------------|\n",
    "| id              | Unique identifier for a house                                 |\n",
    "| date_sold       | Date the house was sold                                       |\n",
    "| date_sold_year  | Year the house was sold                                       |\n",
    "| date_sold_month | Month the house was sold                                      |\n",
    "| date_sold_day   | Day the house was sold (0 = Monday, 1 = Tuesday, etc.)        |\n",
    "| sold_for_price  | Sale price (prediction target)                                |\n",
    "| bedrooms        | Number of bedrooms                                            |\n",
    "| bathrooms       | Number of bathrooms                                           |\n",
    "| sqft_living     | Square footage of the home                                     |\n",
    "| sqft_lot        | Square footage of the lot                                      |\n",
    "| floors          | Total number of floors (levels) in the house                   |\n",
    "| waterfront      | House with a view to a waterfront                             |\n",
    "| view            | Whether the house has been viewed                              |\n",
    "| condition       | Overall condition rating                                      |\n",
    "| grade           | Overall grade given to the housing unit based on the King County grading system |\n",
    "| sqft_above      | Square footage of the house apart from the basement            |\n",
    "| sqft_basement   | Square footage of the basement                                 |\n",
    "| yr_built        | Year the house was built                                       |\n",
    "| yr_renovated    | Year when the house was renovated                              |\n",
    "| zipcode         | Zip code                                                      |\n",
    "| lat             | Latitude coordinate                                           |\n",
    "| long            | Longitude coordinate                                          |\n",
    "| sqft_living15   | The square footage of interior housing living space for the nearest 15 neighbors |\n",
    "| sqft_lot15      | The square footage of the land lots of the nearest 15 neighbors |"
   ]
  },
  {
   "cell_type": "markdown",
   "metadata": {},
   "source": [
    "## Persona Choice\n",
    "| Amy Williams, Mafiosi      | Sells several central houses(top10%) over time, needs average outskirt houses over time to hide from the FBI|\n",
    "|-------------------|-----------------------------------------------------------------------|"
   ]
  },
  {
   "cell_type": "markdown",
   "metadata": {},
   "source": [
    "### Hypothesis\n",
    "1. For selling advice, the top 10% of houses are indicated over the price and quality\n",
    "2. Central houses make up for a big proportion of the top 10% of the houses, but beachfront houses have a share as well\n",
    "3. Outskirt houses are houses that do not have another house within a certain amount of kilometers or are just at the edge of the town.\n",
    "\n",
    "### Goals\n",
    "1. Provide the mafiosi with reasonable selling data about when to sell and buy houses of the top 10%\n",
    "2. Provide a list of (average to good) outskirt houses to live in, with best buying and selling times (change every 3 months)\n",
    "\n",
    "Extra: Provide information about hidden gems that yield high returns because of seasonality"
   ]
  },
  {
   "cell_type": "code",
   "execution_count": 46,
   "metadata": {},
   "outputs": [
    {
     "name": "stdout",
     "output_type": "stream",
     "text": [
      "(21597, 22)\n"
     ]
    },
    {
     "data": {
      "text/plain": [
       "21420"
      ]
     },
     "execution_count": 46,
     "metadata": {},
     "output_type": "execute_result"
    }
   ],
   "source": [
    "df.sold_for_price.sort_values(ascending=False)[:10]\n",
    "print(df.shape)\n",
    "df.id.nunique()\n"
   ]
  },
  {
   "cell_type": "markdown",
   "metadata": {},
   "source": [
    "## Get a feeling for the data set"
   ]
  },
  {
   "cell_type": "code",
   "execution_count": null,
   "metadata": {},
   "outputs": [],
   "source": [
    "fig, ax = plt.subplots(2,3, figsize=(20,10)) # create subplots on 2 rows and 3 columns\n",
    "plt.suptitle('Distribution of numeric columns', fontsize=20)\n",
    "fig.tight_layout() # tight_layout automatically adjusts subplot params so that the subplot(s) fits in to the figure area\n",
    "plt.subplots_adjust(hspace = .5, wspace = .2, top = .9) # adjusts the space between the single subplots\n",
    "\n",
    "ax[0][0].hist(x=df['date_sold_month'],color=\"grey\")  # creates histogram for number of sales\n",
    "ax[0][0].set_ylabel(\"Houses sold\", fontsize = 10) # sets the label y-axis\n",
    "ax[0][0].set_xlim(0,13) # limits the x-axis values from 0 to 1000000 \n",
    "ax[0][0].set_title(\"Houses sold per month\", fontsize = 15)  # sets title for subplot\n",
    "ax[0][0].set_xlabel(\"Month\", fontsize = 10);\n",
    "\n",
    "ax[0][1].hist(x= df['date_sold_day'],color=\"grey\")\n",
    "ax[0][1].set_ylabel(\"Houses sold\", fontsize = 10)\n",
    "#ax[0][1].set_xlim(0,7)\n",
    "ax[0][1].set_title(\"Houses sold per weekday\", fontsize = 15)\n",
    "ax[0][1].set_xlabel(\"Weekday\", fontsize = 10);\n",
    "\n",
    "ax[0][2].hist(x=df['sqft_living'], bins=100,color=\"grey\")\n",
    "ax[0][2].set_ylabel(\"Count\", fontsize = 10)\n",
    "ax[0][2].set_xlim(0,6000)\n",
    "ax[0][2].set_title(\"Sizes of houses in dataset\", fontsize = 15)\n",
    "ax[0][2].set_xlabel(\"Living area [sqft]\", fontsize = 10);\n",
    "\n",
    "ax[1][0].hist(x=df['grade'], bins=10,color=\"grey\")\n",
    "ax[1][0].set_ylabel(\"Number of houses per grade\", fontsize = 10)\n",
    "ax[1][0].set_xlim(0,13)\n",
    "ax[1][0].set_title(\"Number of houses per grade\", fontsize = 15)\n",
    "ax[1][0].set_xlabel(\"Grade\", fontsize = 10);\n",
    "                              \n",
    "ax[1][1].hist(x=df['year_built'], bins=100,color=\"grey\")\n",
    "ax[1][1].set_ylabel(\"Count\", fontsize = 10)\n",
    "ax[1][1].set_xlim(1900,2016)\n",
    "ax[1][1].set_title(\"Number of houses built [year]\", fontsize = 15)\n",
    "ax[1][1].set_xlabel(\"Year\", fontsize = 10);\n",
    "\n",
    "ax[1][2].hist(x=df['sold_for_price'],bins=500,color=\"grey\")\n",
    "ax[1][2].set_ylabel(\"Count\", fontsize = 10)\n",
    "ax[1][2].set_ylim(0,700)\n",
    "ax[1][2].set_title(\"Price distribution of sold houses\", fontsize = 15)\n",
    "ax[1][2].set_xlabel(\"Price\", fontsize = 10);"
   ]
  },
  {
   "cell_type": "code",
   "execution_count": null,
   "metadata": {},
   "outputs": [],
   "source": [
    "fig, ax = plt.subplots()\n",
    "n_bins = 500  # Anzahl der Bins für das Histogramm\n",
    "\n",
    "# Plot histogram\n",
    "counts, bins, _ = ax.hist(x=df['sold_for_price'], bins=n_bins,color=\"grey\")\n",
    "ax.set_ylabel(\"Count\", fontsize=10)\n",
    "ax.set_ylim(0, max(counts) + 50)  # Anpassung der y-Achsenbegrenzung für die beste Sichtbarkeit\n",
    "ax.set_title(\"Price distribution of sold houses\", fontsize=15)\n",
    "ax.set_xlabel(\"Price (in million USD)\", fontsize=10)\n",
    "\n",
    "# Calculation tenth decile\n",
    "tenth_decile = np.percentile(df['sold_for_price'], 90)\n",
    "\n",
    "# vertical red line for 10th decil\n",
    "ax.axvline(x=tenth_decile, color='red', linestyle='-', label='Top 10%')\n",
    "\n",
    "plt.legend()  # Show legend\n",
    "plt.show()"
   ]
  },
  {
   "cell_type": "code",
   "execution_count": null,
   "metadata": {},
   "outputs": [],
   "source": [
    "df.duplicated(subset=\"id\").count()"
   ]
  },
  {
   "cell_type": "code",
   "execution_count": null,
   "metadata": {},
   "outputs": [],
   "source": [
    "fig, ax = plt.subplots(2,3, figsize=(20,10)) # create subplots on 2 rows and 3 columns\n",
    "plt.suptitle('Distribution of numeric columns', fontsize=20)\n",
    "fig.tight_layout() # tight_layout automatically adjusts subplot params so that the subplot(s) fits in to the figure area\n",
    "plt.subplots_adjust(hspace = .5, wspace = .2, top = .9) # adjusts the space between the single subplots\n",
    "\n",
    "ax[0][0].hist(x=df['date_sold_year'])  # creates histogram for number of sales\n",
    "ax[0][0].set_ylabel(\"Houses sold\", fontsize = 10) # sets the label y-axis\n",
    "ax[0][0].set_xlim(1900,2016) # limits the x-axis values from 0 to 1000000 \n",
    "ax[0][0].set_title(\"Houses sold each year\", fontsize = 15);  # sets title for subplot\n",
    "\n",
    "ax[0][1].hist(x= df['view'])\n",
    "ax[0][1].set_ylabel(\"Count of view\", fontsize = 10)\n",
    "#ax[0][1].set_xlim(0,7)\n",
    "ax[0][1].set_title(\"View of houses sold\", fontsize = 15);\n",
    "\n",
    "ax[0][2].hist(x=df['zipcode'], bins=100)\n",
    "ax[0][2].set_ylabel(\"Count\", fontsize = 10)\n",
    "#ax[0][2].set_xlim(0,6000)\n",
    "ax[0][2].set_title(\"Houses sold per zipcode\", fontsize = 15);\n",
    "\n",
    "ax[1][0].hist(x=df['waterfront'], bins=10)\n",
    "ax[1][0].set_ylabel(\"Count\", fontsize = 10)\n",
    "#ax[1][0].set_xlim(0,13)\n",
    "ax[1][0].set_title(\"Number of houses with/without waterfront\", fontsize = 15);\n",
    "                              \n",
    "ax[1][1].hist(x=df['bedrooms'], bins=100)\n",
    "ax[1][1].set_ylabel(\"Count\", fontsize = 10)\n",
    "#ax[1][1].set_xlim(1900,2016)\n",
    "ax[1][1].set_title(\"Number of bedrooms per house\", fontsize = 15);\n",
    "\n",
    "ax[1][2].hist(x=df['floors'])\n",
    "ax[1][2].set_ylabel(\"Count\", fontsize = 10)\n",
    "ax[1][2].set_xlim(0,5)\n",
    "ax[1][2].set_title(\"Number of floors per house\", fontsize = 15);"
   ]
  },
  {
   "cell_type": "code",
   "execution_count": null,
   "metadata": {},
   "outputs": [],
   "source": [
    "fig = px.scatter_mapbox(df, lat='lat', lon='long', zoom=7.5)\n",
    "fig.update_layout(mapbox_style=\"open-street-map\")"
   ]
  },
  {
   "cell_type": "code",
   "execution_count": null,
   "metadata": {},
   "outputs": [],
   "source": [
    "df.date_sold_year.describe()"
   ]
  },
  {
   "cell_type": "markdown",
   "metadata": {},
   "source": [
    "## Analysis about top 10% of houses\n",
    "Create a slice of these data to work with in the future.\n",
    "Top 10% of houses are determined via prices, the houses got sold for."
   ]
  },
  {
   "cell_type": "code",
   "execution_count": null,
   "metadata": {},
   "outputs": [],
   "source": [
    "upper_decile = int(df.sold_for_price.quantile(0.9))\n",
    "#upper_decile == 887000\n",
    "df_top_10 = df.query(\"sold_for_price > 887000\")\n",
    "df_top_10.zipcode.describe()\n",
    "#df_top_10.info()"
   ]
  },
  {
   "cell_type": "code",
   "execution_count": null,
   "metadata": {},
   "outputs": [],
   "source": [
    "fig, ax = plt.subplots(2,3, figsize=(20,10)) # create subplots on 2 rows and 3 columns\n",
    "plt.suptitle('Distribution of numeric columns', fontsize=20)\n",
    "fig.tight_layout() # tight_layout automatically adjusts subplot params so that the subplot(s) fits in to the figure area\n",
    "plt.subplots_adjust(hspace = .5, wspace = .2, top = .9) # adjusts the space between the single subplots\n",
    "\n",
    "ax[0][0].hist(x=df_top_10['date_sold_month'])  # creates histogram for number of sales\n",
    "ax[0][0].set_ylabel(\"Houses sold\", fontsize = 10) # sets the label y-axis\n",
    "#ax[0][0].set_xlim(0,13) # limits the x-axis values from 0 to 1000000 \n",
    "ax[0][0].set_title(\"Houses sold per month\", fontsize = 15);  # sets title for subplot\n",
    "\n",
    "ax[0][1].hist(x= df_top_10['date_sold_day'])\n",
    "ax[0][1].set_ylabel(\"Houses sold\", fontsize = 10)\n",
    "#ax[0][1].set_xlim(0,7)\n",
    "ax[0][1].set_title(\"Houses sold per weekday\", fontsize = 15);\n",
    "\n",
    "ax[0][2].hist(x=df_top_10['sqft_living'], bins=100)\n",
    "ax[0][2].set_ylabel(\"Count\", fontsize = 10)\n",
    "#ax[0][2].set_xlim(0,6000)\n",
    "ax[0][2].set_title(\"Sizes of houses in top 10 dataset\", fontsize = 15);\n",
    "\n",
    "ax[1][0].hist(x=df_top_10['grade'], bins=10)\n",
    "ax[1][0].set_ylabel(\"Number of houses per grade\", fontsize = 10)\n",
    "#ax[1][0].set_xlim(0,13)\n",
    "ax[1][0].set_title(\"Number of houses per grade\", fontsize = 15);\n",
    "                              \n",
    "ax[1][1].hist(x=df_top_10['year_built'], bins=100)\n",
    "ax[1][1].set_ylabel(\"Count\", fontsize = 10)\n",
    "ax[1][1].set_xlim(1900,2016)\n",
    "ax[1][1].set_title(\"Number of houses built in year\", fontsize = 15);\n",
    "\n",
    "ax[1][2].hist(x=df_top_10['sold_for_price'], bins=200)\n",
    "ax[1][2].set_ylabel(\"Count\", fontsize = 10)\n",
    "ax[1][2].set_ylim(0,300)\n",
    "ax[1][2].set_title(\"Prices overview\", fontsize = 15);"
   ]
  },
  {
   "cell_type": "markdown",
   "metadata": {},
   "source": [
    "### Get a further impression about important KPIs of the housing market in the top 10 decile"
   ]
  },
  {
   "cell_type": "code",
   "execution_count": null,
   "metadata": {},
   "outputs": [],
   "source": [
    "df_top_10.columns\n",
    "#df_top_10.date_sold_year.describe()\n"
   ]
  },
  {
   "cell_type": "code",
   "execution_count": null,
   "metadata": {},
   "outputs": [],
   "source": [
    "fig, ax = plt.subplots(2,3, figsize=(20,10)) # create subplots on 2 rows and 3 columns\n",
    "plt.suptitle('Distribution of numeric columns', fontsize=20)\n",
    "fig.tight_layout() # tight_layout automatically adjusts subplot params so that the subplot(s) fits in to the figure area\n",
    "plt.subplots_adjust(hspace = .5, wspace = .2, top = .9) # adjusts the space between the single subplots\n",
    "\n",
    "ax[0][0].hist(x=df_top_10['date_sold_year'])  # creates histogram for number of sales\n",
    "ax[0][0].set_ylabel(\"Houses sold\", fontsize = 10) # sets the label y-axis\n",
    "#ax[0][0].set_xlim(1900,2016) # limits the x-axis values from 0 to 1000000 \n",
    "ax[0][0].set_title(\"Houses sold each year\", fontsize = 15);  # sets title for subplot\n",
    "\n",
    "ax[0][1].hist(x= df_top_10['view'])\n",
    "ax[0][1].set_ylabel(\"Count of view\", fontsize = 10)\n",
    "#ax[0][1].set_xlim(0,7)\n",
    "ax[0][1].set_title(\"View of houses sold\", fontsize = 15);\n",
    "\n",
    "ax[0][2].hist(x=df_top_10['zipcode'], bins=100)\n",
    "ax[0][2].set_ylabel(\"Count\", fontsize = 10)\n",
    "#ax[0][2].set_xlim(0,6000)\n",
    "ax[0][2].set_title(\"Houses sold per zipcode\", fontsize = 15);\n",
    "\n",
    "ax[1][0].hist(x=df_top_10['waterfront'], bins=10)\n",
    "ax[1][0].set_ylabel(\"Count\", fontsize = 10)\n",
    "#ax[1][0].set_xlim(0,13)\n",
    "ax[1][0].set_title(\"Number of houses with/without waterfront\", fontsize = 15);\n",
    "                              \n",
    "ax[1][1].hist(x=df_top_10['bedrooms'], bins=100)\n",
    "ax[1][1].set_ylabel(\"Count\", fontsize = 10)\n",
    "#ax[1][1].set_xlim(1900,2016)\n",
    "ax[1][1].set_title(\"Number of bedrooms per house\", fontsize = 15);\n",
    "\n",
    "ax[1][2].hist(x=df_top_10['floors'])\n",
    "ax[1][2].set_ylabel(\"Count\", fontsize = 10)\n",
    "ax[1][2].set_xlim(0,5)\n",
    "ax[1][2].set_title(\"Number of floors per house\", fontsize = 15);"
   ]
  },
  {
   "cell_type": "markdown",
   "metadata": {},
   "source": [
    "## Location overview of houses sold in a map"
   ]
  },
  {
   "cell_type": "code",
   "execution_count": null,
   "metadata": {},
   "outputs": [],
   "source": [
    "fig = px.scatter_mapbox(df_top_10, lat='lat', lon='long', zoom=8, custom_data=[\"zipcode\",\"sold_for_price\"], hover_name=\"zipcode\",hover_data={\"sold_for_price\": \":,.0f\"})\n",
    "fig.update_layout(mapbox_style=\"open-street-map\")"
   ]
  },
  {
   "cell_type": "markdown",
   "metadata": {},
   "source": [
    "Let's take a look at the times when houses were sold.\n",
    "The grade and view grouped and compared to the prices and months should give an overview, of when the best time is to buy/sell a house.\n",
    "Maybe, additional KPI's have to be defined."
   ]
  },
  {
   "cell_type": "code",
   "execution_count": null,
   "metadata": {},
   "outputs": [],
   "source": [
    "df_top_10_zip = df_top_10.zipcode.value_counts().sort_values(ascending=False)[:10]\n",
    "#As the mafiosi is looking for the prime locations, let's take a look at the 10 most popular zipcodes within this area.\n",
    "#df_top_10.columns\n",
    "df_top_10_zip = pd.DataFrame({'zipcode': [98004, 98040, 98006, 98112, 98033, 98199, 98075, 98105, 98053, 98115]})\n",
    "df_top_10_top = df_top_10[df_top_10['zipcode'].isin(df_top_10_zip['zipcode'])]\n",
    "df_top_10_top"
   ]
  },
  {
   "cell_type": "code",
   "execution_count": null,
   "metadata": {},
   "outputs": [],
   "source": [
    "# Prices houses got sold for in the top 10 zipcodes:\n",
    "df_top_10_top.groupby(\"zipcode\").sold_for_price.mean().plot(kind=\"bar\")"
   ]
  },
  {
   "cell_type": "markdown",
   "metadata": {},
   "source": [
    "#### Location of the houses within the top 10 zipcodes"
   ]
  },
  {
   "cell_type": "code",
   "execution_count": null,
   "metadata": {},
   "outputs": [],
   "source": [
    "fig = px.scatter_mapbox(df_top_10_top, lat='lat', lon='long', zoom=8, custom_data=[\"zipcode\",\"sold_for_price\"], hover_name=\"zipcode\",hover_data={\"sold_for_price\": \":,.0f\"})\n",
    "fig.update_layout(mapbox_style=\"open-street-map\")"
   ]
  },
  {
   "cell_type": "code",
   "execution_count": null,
   "metadata": {},
   "outputs": [],
   "source": [
    "df_top_10_top[[\"view\",\"condition\",\"grade\",\"sqft_living\",\"sqft_lot\"]].describe()"
   ]
  },
  {
   "cell_type": "markdown",
   "metadata": {},
   "source": [
    "## Creation of a Grading Coefficient\n",
    "Let's analyze, whether there are houses that are undervalued within these postcodes. Therefore we need to define a grading system.\n",
    "This grading system includes the quantitative values for view,condition,grade and sqft_living and sqft_lot to determine the objective value of a house.\n",
    "As the top 10 postcodes \n",
    "Create Coefficient\n",
    "Preparation: View +1 (to avoid 0 values)\n",
    "\n",
    "Condition:    (x/5)*0,1\n",
    "Grade:        (x/13)*0,4\n",
    "Sqft_living:  (x/13,540)*0,25\n",
    "Sqft_lot:     (x/453,895)*0,25\n",
    "AGAINST price: Price per grade should have a value which can then be further analyzed, whether a house is over or below this line to determine overpricing\n",
    "grading_coefficient = weighted(view,condition,grade,sqft_living,sqft_lot)\n",
    "This coefficient has to be evaluated against the price each house sells for, to determine which houses are overrated"
   ]
  },
  {
   "cell_type": "code",
   "execution_count": null,
   "metadata": {},
   "outputs": [],
   "source": [
    "df_top_10_top[\"grading_coefficient\"] = (df_top_10_top[\"condition\"]/5)*0.1 + (df_top_10_top[\"grade\"]/13)*0.4 + (df_top_10_top[\"sqft_living\"]/13540)*0.25 + (df_top_10_top[\"sqft_lot\"]/453895)*0.25\n",
    "df_top_10_top[\"grading_coefficient\"]\n",
    "#sns.scatterplot(x='grading_coefficient',y=\"sold_for_price\",data=df_top_10_top)\n",
    "sns.regplot(x='grading_coefficient',y=\"sold_for_price\",data=df_top_10_top,scatter_kws={'s': 25},line_kws={\"color\": \"black\"})\n",
    "\n",
    "#Lineare Regression:\n",
    "slope, intercept, r_value, p_value, std_err = linregress(df_top_10_top['grading_coefficient'], df_top_10_top['sold_for_price'])\n",
    "# Die Regressionslinie als Funktion ausgeben\n",
    "print(f\"Regressionslinie: y = {slope:.2f} * x + {intercept:.2f}\")"
   ]
  },
  {
   "cell_type": "code",
   "execution_count": null,
   "metadata": {},
   "outputs": [],
   "source": [
    "x_values = np.linspace(0.2, 0.9, 100)\n",
    "y_values = 5468344.55 * x_values - 999714.37\n",
    "\n",
    "# Erstelle die Grafik\n",
    "plt.figure(figsize=(10, 6))\n",
    "plt.plot(x_values, y_values, label='y = 5468344.55 * x - 999714.37', color='red')\n",
    "\n",
    "# Einstellungen der Achsen\n",
    "plt.xlabel('X-Achse')\n",
    "plt.ylabel('Y-Achse (1e6)')\n",
    "plt.title('Lineare Gleichung: y = 5468344.55 * x - 999714.37')\n",
    "plt.ylim(0, 7e6)\n",
    "plt.xlim(0.2, 0.9)\n",
    "\n",
    "# Zeige die Legende\n",
    "plt.legend()\n",
    "\n",
    "# Zeige die Grafik\n",
    "plt.show()"
   ]
  },
  {
   "cell_type": "code",
   "execution_count": null,
   "metadata": {},
   "outputs": [],
   "source": [
    "sns.scatterplot(x='grading_coefficient', y='sold_for_price', data=df_top_10_top, hue='waterfront', palette={0: 'blue', 1: 'red'}, s=20)\n",
    "#sns.scatterplot(x='grading_coefficient', y='sold_for_price', data=df_top_10_top, s=20)\n",
    "sns.regplot(x='grading_coefficient', y='sold_for_price', data=df_top_10_top, scatter=False, ax=plt.gca())\n",
    "plt.xlabel(\"Grading Coefficient\")\n",
    "plt.ylabel(\"Price (in million USD)\")"
   ]
  },
  {
   "cell_type": "code",
   "execution_count": null,
   "metadata": {},
   "outputs": [],
   "source": [
    "#Grading only for houses with a waterfront\n",
    "df_top_waterfront = df_top_10_top.query(\"waterfront == 1\")\n",
    "df_top_waterfront\n",
    "sns.regplot(x='grading_coefficient',y=\"sold_for_price\",data=df_top_waterfront)"
   ]
  },
  {
   "cell_type": "code",
   "execution_count": null,
   "metadata": {},
   "outputs": [],
   "source": [
    "#df_top_10_top[\"price_coefficient\"] = df_top_10_top[\"sold_for_price\"]/df_top_10_top[\"grading_coefficient\"]\n",
    "df_top_10_top['predicted_price'] = 5468344.55 * df_top_10_top['grading_coefficient'] - 999714.37\n",
    "df_top_10_top['buying_recommendation'] = np.where(df_top_10_top['sold_for_price'] > df_top_10_top['predicted_price'], 0, 1)\n",
    "df_top_10_top"
   ]
  },
  {
   "cell_type": "code",
   "execution_count": null,
   "metadata": {},
   "outputs": [],
   "source": [
    "plt.figure(figsize=(12,6))\n",
    "plt.title(\"Buying and Selling recommendation based on analysis\")\n",
    "sns.scatterplot(x='grading_coefficient', y='sold_for_price', data=df_top_10_top, hue='buying_recommendation', palette={0: 'grey', 1: 'darkgreen'}, s=20)\n",
    "sns.regplot(x='grading_coefficient', y='sold_for_price', data=df_top_10_top, scatter=False, ax=plt.gca())\n",
    "legend_labels = {'darkgreen': 'Buying recommendation', 'grey': 'Selling recommendation'}\n",
    "handles = [plt.Line2D([0], [0], marker='o', color='w', markerfacecolor=color, markersize=8) for color in legend_labels.keys()]\n",
    "plt.legend(handles, legend_labels.values(), loc='upper right')\n",
    "plt.xlabel(\"Grading Coefficient\")\n",
    "plt.ylabel(\"Most recent Selling Price\")"
   ]
  },
  {
   "cell_type": "code",
   "execution_count": 250,
   "metadata": {},
   "outputs": [
    {
     "data": {
      "application/vnd.plotly.v1+json": {
       "config": {
        "plotlyServerURL": "https://plot.ly"
       },
       "data": [
        {
         "customdata": [
          [
           98053,
           1230000
          ],
          [
           98040,
           2000000
          ],
          [
           98105,
           920000
          ],
          [
           98004,
           975000
          ],
          [
           98004,
           1330000
          ],
          [
           98199,
           1100000
          ],
          [
           98040,
           905000
          ],
          [
           98004,
           1090000
          ],
          [
           98004,
           1450000
          ],
          [
           98006,
           2250000
          ],
          [
           98075,
           900000
          ],
          [
           98033,
           917500
          ],
          [
           98033,
           1100000
          ],
          [
           98040,
           1510000
          ],
          [
           98033,
           1030000
          ],
          [
           98004,
           2900000
          ],
          [
           98006,
           1380000
          ],
          [
           98006,
           1400000
          ],
          [
           98040,
           940000
          ],
          [
           98033,
           900000
          ],
          [
           98006,
           1350000
          ],
          [
           98004,
           927000
          ],
          [
           98040,
           1120000
          ],
          [
           98004,
           1300000
          ],
          [
           98006,
           1050000
          ],
          [
           98006,
           1070000
          ],
          [
           98033,
           1200000
          ],
          [
           98033,
           1490000
          ],
          [
           98053,
           1100000
          ],
          [
           98112,
           2250000
          ],
          [
           98075,
           970000
          ],
          [
           98199,
           1450000
          ],
          [
           98040,
           1950000
          ],
          [
           98040,
           1220000
          ],
          [
           98115,
           1040000
          ],
          [
           98004,
           888000
          ],
          [
           98105,
           1250000
          ],
          [
           98040,
           1480000
          ],
          [
           98004,
           980000
          ],
          [
           98105,
           1300000
          ],
          [
           98006,
           942500
          ],
          [
           98112,
           2250000
          ],
          [
           98006,
           1360000
          ],
          [
           98006,
           1220000
          ],
          [
           98040,
           2400000
          ],
          [
           98199,
           1100000
          ],
          [
           98004,
           1270000
          ],
          [
           98040,
           980000
          ],
          [
           98040,
           905000
          ],
          [
           98033,
           990000
          ],
          [
           98112,
           915000
          ],
          [
           98004,
           1320000
          ],
          [
           98006,
           1030000
          ],
          [
           98199,
           980000
          ],
          [
           98033,
           1050000
          ],
          [
           98053,
           1040000
          ],
          [
           98006,
           1240000
          ],
          [
           98033,
           1130000
          ],
          [
           98115,
           1750000
          ],
          [
           98033,
           5110000
          ],
          [
           98105,
           900000
          ],
          [
           98053,
           1150000
          ],
          [
           98006,
           902000
          ],
          [
           98033,
           949000
          ],
          [
           98112,
           1230000
          ],
          [
           98004,
           2300000
          ],
          [
           98004,
           2260000
          ],
          [
           98040,
           925000
          ],
          [
           98040,
           5300000
          ],
          [
           98112,
           1200000
          ],
          [
           98006,
           960000
          ],
          [
           98115,
           1080000
          ],
          [
           98075,
           1060000
          ],
          [
           98199,
           1400000
          ],
          [
           98105,
           2540000
          ],
          [
           98033,
           907000
          ],
          [
           98004,
           5350000
          ],
          [
           98040,
           1330000
          ],
          [
           98004,
           935000
          ],
          [
           98115,
           932800
          ],
          [
           98040,
           957500
          ],
          [
           98199,
           1180000
          ],
          [
           98004,
           1380000
          ],
          [
           98053,
           1150000
          ],
          [
           98040,
           900000
          ],
          [
           98112,
           895000
          ],
          [
           98112,
           1200000
          ],
          [
           98040,
           1230000
          ],
          [
           98040,
           1680000
          ],
          [
           98004,
           1930000
          ],
          [
           98033,
           2350000
          ],
          [
           98033,
           975000
          ],
          [
           98112,
           1320000
          ],
          [
           98004,
           1430000
          ],
          [
           98006,
           1100000
          ],
          [
           98006,
           905000
          ],
          [
           98199,
           1570000
          ],
          [
           98053,
           915000
          ],
          [
           98040,
           1580000
          ],
          [
           98006,
           998000
          ],
          [
           98112,
           1720000
          ],
          [
           98053,
           930800
          ],
          [
           98112,
           1600000
          ],
          [
           98006,
           962000
          ],
          [
           98033,
           1480000
          ],
          [
           98105,
           2530000
          ],
          [
           98040,
           940000
          ],
          [
           98112,
           1570000
          ],
          [
           98040,
           1200000
          ],
          [
           98112,
           1250000
          ],
          [
           98040,
           3850000
          ],
          [
           98006,
           1200000
          ],
          [
           98040,
           1030000
          ],
          [
           98004,
           1640000
          ],
          [
           98075,
           989000
          ],
          [
           98105,
           1740000
          ],
          [
           98004,
           950000
          ],
          [
           98040,
           1090000
          ],
          [
           98006,
           1650000
          ],
          [
           98004,
           1550000
          ],
          [
           98199,
           1050000
          ],
          [
           98006,
           1030000
          ],
          [
           98006,
           1760000
          ],
          [
           98040,
           1340000
          ],
          [
           98004,
           2750000
          ],
          [
           98112,
           1190000
          ],
          [
           98004,
           993000
          ],
          [
           98004,
           1400000
          ],
          [
           98112,
           1810000
          ],
          [
           98075,
           1370000
          ],
          [
           98053,
           1190000
          ],
          [
           98040,
           995000
          ],
          [
           98004,
           1540000
          ],
          [
           98033,
           968933
          ],
          [
           98040,
           992000
          ],
          [
           98004,
           985000
          ],
          [
           98006,
           1130000
          ],
          [
           98075,
           913000
          ],
          [
           98004,
           1600000
          ],
          [
           98199,
           1220000
          ],
          [
           98040,
           1700000
          ],
          [
           98004,
           1870000
          ],
          [
           98040,
           1220000
          ],
          [
           98006,
           1010000
          ],
          [
           98112,
           1600000
          ],
          [
           98006,
           1620000
          ],
          [
           98006,
           1650000
          ],
          [
           98004,
           895000
          ],
          [
           98053,
           1240000
          ],
          [
           98004,
           1070000
          ],
          [
           98006,
           1600000
          ],
          [
           98040,
           895000
          ],
          [
           98033,
           980000
          ],
          [
           98040,
           1000000
          ],
          [
           98033,
           900000
          ],
          [
           98006,
           1380000
          ],
          [
           98004,
           1000000
          ],
          [
           98004,
           1150000
          ],
          [
           98040,
           1610000
          ],
          [
           98033,
           1290000
          ],
          [
           98053,
           963990
          ],
          [
           98115,
           925000
          ],
          [
           98199,
           1390000
          ],
          [
           98105,
           1320000
          ],
          [
           98040,
           1400000
          ],
          [
           98006,
           1840000
          ],
          [
           98053,
           929000
          ],
          [
           98040,
           1250000
          ],
          [
           98004,
           3000000
          ],
          [
           98112,
           1130000
          ],
          [
           98115,
           1010000
          ],
          [
           98006,
           1200000
          ],
          [
           98004,
           950000
          ],
          [
           98115,
           896000
          ],
          [
           98112,
           1330000
          ],
          [
           98006,
           2530000
          ],
          [
           98040,
           2300000
          ],
          [
           98033,
           1130000
          ],
          [
           98004,
           2290000
          ],
          [
           98112,
           975000
          ],
          [
           98105,
           1130000
          ],
          [
           98112,
           1270000
          ],
          [
           98115,
           990000
          ],
          [
           98112,
           1510000
          ],
          [
           98112,
           1400000
          ],
          [
           98004,
           1900000
          ],
          [
           98006,
           1000000
          ],
          [
           98004,
           1210000
          ],
          [
           98112,
           1900000
          ],
          [
           98004,
           1310000
          ],
          [
           98004,
           1970000
          ],
          [
           98115,
           921500
          ],
          [
           98004,
           2080000
          ],
          [
           98040,
           1100000
          ],
          [
           98112,
           2540000
          ],
          [
           98053,
           975000
          ],
          [
           98004,
           950000
          ],
          [
           98112,
           1570000
          ],
          [
           98004,
           1100000
          ],
          [
           98040,
           1280000
          ],
          [
           98112,
           1230000
          ],
          [
           98040,
           1080000
          ],
          [
           98004,
           1230000
          ],
          [
           98075,
           1170000
          ],
          [
           98053,
           1080000
          ],
          [
           98040,
           980000
          ],
          [
           98040,
           1250000
          ],
          [
           98004,
           1580000
          ],
          [
           98040,
           938000
          ],
          [
           98006,
           1290000
          ],
          [
           98115,
           1240000
          ],
          [
           98112,
           2450000
          ],
          [
           98033,
           898888
          ],
          [
           98004,
           2450000
          ],
          [
           98105,
           1740000
          ],
          [
           98033,
           1650000
          ],
          [
           98112,
           2890000
          ],
          [
           98040,
           1580000
          ],
          [
           98105,
           889000
          ],
          [
           98112,
           2200000
          ],
          [
           98040,
           2950000
          ],
          [
           98199,
           978500
          ],
          [
           98006,
           975000
          ],
          [
           98112,
           965000
          ],
          [
           98004,
           7060000
          ],
          [
           98075,
           1020000
          ],
          [
           98004,
           1150000
          ],
          [
           98004,
           1500000
          ],
          [
           98075,
           2400000
          ],
          [
           98075,
           960000
          ],
          [
           98004,
           1350000
          ],
          [
           98004,
           2150000
          ],
          [
           98115,
           925000
          ],
          [
           98004,
           979000
          ],
          [
           98006,
           1040000
          ],
          [
           98004,
           1190000
          ],
          [
           98105,
           1600000
          ],
          [
           98105,
           1290000
          ],
          [
           98199,
           1880000
          ],
          [
           98004,
           2400000
          ],
          [
           98040,
           1280000
          ],
          [
           98040,
           899100
          ],
          [
           98105,
           1400000
          ],
          [
           98006,
           978000
          ],
          [
           98040,
           939000
          ],
          [
           98075,
           1150000
          ],
          [
           98006,
           1090000
          ],
          [
           98075,
           911000
          ],
          [
           98004,
           1670000
          ],
          [
           98075,
           2000000
          ],
          [
           98040,
           1050000
          ],
          [
           98112,
           1210000
          ],
          [
           98040,
           1130000
          ],
          [
           98075,
           1160000
          ],
          [
           98004,
           1410000
          ],
          [
           98199,
           1020000
          ],
          [
           98040,
           2490000
          ],
          [
           98004,
           949880
          ],
          [
           98105,
           1130000
          ],
          [
           98040,
           1200000
          ],
          [
           98112,
           1130000
          ],
          [
           98040,
           1490000
          ],
          [
           98004,
           921000
          ],
          [
           98199,
           975000
          ],
          [
           98075,
           1850000
          ],
          [
           98112,
           950000
          ],
          [
           98053,
           988830
          ],
          [
           98112,
           2050000
          ],
          [
           98112,
           1150000
          ],
          [
           98006,
           952000
          ],
          [
           98004,
           1900000
          ],
          [
           98004,
           1940000
          ],
          [
           98053,
           1050000
          ],
          [
           98053,
           895000
          ],
          [
           98105,
           1000000
          ],
          [
           98040,
           1030000
          ],
          [
           98075,
           1060000
          ],
          [
           98105,
           1200000
          ],
          [
           98006,
           1390000
          ],
          [
           98105,
           1300000
          ],
          [
           98053,
           1530000
          ],
          [
           98053,
           1100000
          ],
          [
           98112,
           1090000
          ],
          [
           98033,
           1150000
          ],
          [
           98053,
           994900
          ],
          [
           98004,
           1500000
          ],
          [
           98115,
           895000
          ],
          [
           98040,
           1040000
          ],
          [
           98199,
           1160000
          ],
          [
           98033,
           1600000
          ],
          [
           98033,
           1740000
          ],
          [
           98040,
           1250000
          ],
          [
           98006,
           2850000
          ],
          [
           98033,
           890000
          ],
          [
           98004,
           985000
          ],
          [
           98053,
           1150000
          ],
          [
           98004,
           1690000
          ],
          [
           98033,
           1020000
          ],
          [
           98040,
           895000
          ],
          [
           98004,
           898000
          ],
          [
           98006,
           1200000
          ],
          [
           98112,
           1160000
          ],
          [
           98004,
           1420000
          ],
          [
           98006,
           998000
          ],
          [
           98004,
           1470000
          ],
          [
           98112,
           2470000
          ],
          [
           98075,
           1520000
          ],
          [
           98075,
           1100000
          ],
          [
           98004,
           990400
          ],
          [
           98105,
           1620000
          ],
          [
           98040,
           1090000
          ],
          [
           98006,
           1500000
          ],
          [
           98040,
           1460000
          ],
          [
           98040,
           1800000
          ],
          [
           98053,
           970000
          ],
          [
           98033,
           899000
          ],
          [
           98004,
           1200000
          ],
          [
           98040,
           1200000
          ],
          [
           98006,
           1480000
          ],
          [
           98006,
           908950
          ],
          [
           98040,
           1560000
          ],
          [
           98053,
           1110000
          ],
          [
           98112,
           1330000
          ],
          [
           98112,
           920000
          ],
          [
           98040,
           975000
          ],
          [
           98033,
           2390000
          ],
          [
           98040,
           2200000
          ],
          [
           98040,
           1100000
          ],
          [
           98199,
           1110000
          ],
          [
           98105,
           1280000
          ],
          [
           98006,
           1150000
          ],
          [
           98105,
           1240000
          ],
          [
           98199,
           1450000
          ],
          [
           98112,
           2400000
          ],
          [
           98199,
           1030000
          ],
          [
           98004,
           1050000
          ],
          [
           98033,
           1200000
          ],
          [
           98006,
           1450000
          ],
          [
           98040,
           950000
          ],
          [
           98004,
           1970000
          ],
          [
           98004,
           1450000
          ],
          [
           98006,
           1440000
          ],
          [
           98040,
           1580000
          ],
          [
           98004,
           900000
          ],
          [
           98112,
           950000
          ],
          [
           98006,
           998160
          ],
          [
           98006,
           1150000
          ],
          [
           98199,
           1930000
          ],
          [
           98053,
           1940000
          ],
          [
           98105,
           941000
          ],
          [
           98105,
           3650000
          ],
          [
           98033,
           1340000
          ],
          [
           98040,
           1350000
          ],
          [
           98199,
           1340000
          ],
          [
           98053,
           1250000
          ],
          [
           98033,
           1040000
          ],
          [
           98033,
           925000
          ],
          [
           98033,
           1100000
          ],
          [
           98033,
           2650000
          ],
          [
           98004,
           1880000
          ],
          [
           98112,
           1340000
          ],
          [
           98040,
           2700000
          ],
          [
           98040,
           1260000
          ],
          [
           98112,
           2250000
          ],
          [
           98004,
           1430000
          ],
          [
           98033,
           1060000
          ],
          [
           98040,
           1370000
          ],
          [
           98006,
           1490000
          ],
          [
           98105,
           1400000
          ],
          [
           98033,
           1580000
          ],
          [
           98004,
           1160000
          ],
          [
           98053,
           1210000
          ],
          [
           98004,
           2180000
          ],
          [
           98006,
           1390000
          ],
          [
           98004,
           3800000
          ],
          [
           98006,
           920000
          ],
          [
           98115,
           1500000
          ],
          [
           98004,
           1040000
          ],
          [
           98199,
           990000
          ],
          [
           98105,
           1260000
          ],
          [
           98004,
           1490000
          ],
          [
           98033,
           1400000
          ],
          [
           98112,
           1050000
          ],
          [
           98006,
           1620000
          ],
          [
           98006,
           1200000
          ],
          [
           98033,
           1070000
          ],
          [
           98112,
           1160000
          ],
          [
           98006,
           2500000
          ],
          [
           98040,
           3100000
          ],
          [
           98115,
           970000
          ],
          [
           98004,
           1250000
          ],
          [
           98006,
           1530000
          ],
          [
           98105,
           907000
          ],
          [
           98199,
           1070000
          ],
          [
           98115,
           1180000
          ],
          [
           98040,
           987500
          ],
          [
           98004,
           1600000
          ],
          [
           98112,
           1980000
          ],
          [
           98040,
           1390000
          ],
          [
           98112,
           2580000
          ],
          [
           98040,
           1600000
          ],
          [
           98006,
           1310000
          ],
          [
           98006,
           928950
          ],
          [
           98053,
           1300000
          ],
          [
           98040,
           1170000
          ],
          [
           98112,
           1030000
          ],
          [
           98040,
           1610000
          ],
          [
           98105,
           2500000
          ],
          [
           98112,
           1050000
          ],
          [
           98033,
           1490000
          ],
          [
           98040,
           1700000
          ],
          [
           98112,
           2540000
          ],
          [
           98004,
           1270000
          ],
          [
           98112,
           1110000
          ],
          [
           98006,
           1130000
          ],
          [
           98004,
           1000000
          ],
          [
           98006,
           1250000
          ],
          [
           98105,
           978000
          ],
          [
           98006,
           920000
          ],
          [
           98006,
           1150000
          ],
          [
           98033,
           1040000
          ],
          [
           98004,
           1650000
          ],
          [
           98006,
           1210000
          ],
          [
           98006,
           1200000
          ],
          [
           98006,
           1150000
          ],
          [
           98040,
           1900000
          ],
          [
           98199,
           3200000
          ],
          [
           98004,
           1820000
          ],
          [
           98053,
           920000
          ],
          [
           98199,
           895000
          ],
          [
           98033,
           1290000
          ],
          [
           98040,
           3400000
          ],
          [
           98112,
           1200000
          ],
          [
           98006,
           1850000
          ],
          [
           98033,
           902000
          ],
          [
           98112,
           1480000
          ],
          [
           98040,
           4670000
          ],
          [
           98006,
           1510000
          ],
          [
           98105,
           1870000
          ],
          [
           98006,
           945800
          ],
          [
           98075,
           1450000
          ],
          [
           98115,
           1000000
          ],
          [
           98040,
           2450000
          ],
          [
           98112,
           2190000
          ],
          [
           98004,
           915000
          ],
          [
           98006,
           1220000
          ],
          [
           98199,
           1660000
          ],
          [
           98105,
           1250000
          ],
          [
           98004,
           1010000
          ],
          [
           98199,
           1110000
          ],
          [
           98040,
           1300000
          ],
          [
           98053,
           2140000
          ],
          [
           98075,
           1250000
          ],
          [
           98006,
           1290000
          ],
          [
           98040,
           1200000
          ],
          [
           98075,
           945000
          ],
          [
           98004,
           898000
          ],
          [
           98004,
           1210000
          ],
          [
           98004,
           1590000
          ],
          [
           98006,
           1110000
          ],
          [
           98053,
           955990
          ],
          [
           98004,
           4490000
          ],
          [
           98040,
           1440000
          ],
          [
           98115,
           975000
          ],
          [
           98033,
           1090000
          ],
          [
           98033,
           895000
          ],
          [
           98115,
           1200000
          ],
          [
           98112,
           958000
          ],
          [
           98053,
           1180000
          ],
          [
           98006,
           895000
          ],
          [
           98006,
           1800000
          ],
          [
           98199,
           1250000
          ],
          [
           98006,
           1370000
          ],
          [
           98006,
           1100000
          ],
          [
           98112,
           1010000
          ],
          [
           98033,
           1010000
          ],
          [
           98040,
           1410000
          ],
          [
           98040,
           1530000
          ],
          [
           98105,
           1330000
          ],
          [
           98040,
           998000
          ],
          [
           98105,
           1070000
          ],
          [
           98112,
           1910000
          ],
          [
           98033,
           950000
          ],
          [
           98053,
           894000
          ],
          [
           98075,
           1080000
          ],
          [
           98199,
           1100000
          ],
          [
           98040,
           970500
          ],
          [
           98112,
           985000
          ],
          [
           98006,
           965000
          ],
          [
           98033,
           1350000
          ],
          [
           98006,
           1330000
          ],
          [
           98006,
           925000
          ],
          [
           98040,
           1050000
          ],
          [
           98112,
           1230000
          ],
          [
           98040,
           1960000
          ],
          [
           98033,
           1500000
          ],
          [
           98006,
           1100000
          ],
          [
           98006,
           1680000
          ],
          [
           98004,
           903000
          ],
          [
           98004,
           2580000
          ],
          [
           98004,
           1360000
          ],
          [
           98199,
           1100000
          ],
          [
           98040,
           950000
          ],
          [
           98053,
           1090000
          ],
          [
           98004,
           1700000
          ],
          [
           98006,
           2380000
          ],
          [
           98105,
           961000
          ],
          [
           98040,
           1800000
          ],
          [
           98105,
           1540000
          ],
          [
           98004,
           1780000
          ],
          [
           98112,
           1760000
          ],
          [
           98004,
           1570000
          ],
          [
           98105,
           1480000
          ],
          [
           98112,
           1400000
          ],
          [
           98199,
           1700000
          ],
          [
           98075,
           1140000
          ],
          [
           98004,
           1390000
          ],
          [
           98105,
           1250000
          ],
          [
           98033,
           1650000
          ],
          [
           98004,
           999950
          ],
          [
           98112,
           1100000
          ],
          [
           98006,
           900000
          ],
          [
           98075,
           1180000
          ],
          [
           98115,
           905000
          ],
          [
           98040,
           1730000
          ],
          [
           98040,
           890000
          ],
          [
           98006,
           960000
          ],
          [
           98112,
           1740000
          ],
          [
           98053,
           963990
          ],
          [
           98040,
           1200000
          ],
          [
           98006,
           893880
          ],
          [
           98075,
           1250000
          ],
          [
           98112,
           1050000
          ],
          [
           98112,
           1100000
          ],
          [
           98040,
           1230000
          ],
          [
           98040,
           1900000
          ],
          [
           98040,
           896000
          ],
          [
           98105,
           1370000
          ],
          [
           98075,
           940000
          ],
          [
           98040,
           890000
          ],
          [
           98199,
           1400000
          ],
          [
           98105,
           950000
          ],
          [
           98033,
           2700000
          ],
          [
           98075,
           1300000
          ],
          [
           98075,
           1030000
          ],
          [
           98115,
           925000
          ],
          [
           98112,
           1200000
          ],
          [
           98006,
           2980000
          ],
          [
           98199,
           979700
          ],
          [
           98112,
           1400000
          ],
          [
           98033,
           1380000
          ],
          [
           98105,
           1080000
          ],
          [
           98112,
           3400000
          ],
          [
           98006,
           938000
          ],
          [
           98112,
           1350000
          ],
          [
           98040,
           1500000
          ],
          [
           98053,
           910000
          ],
          [
           98199,
           1230000
          ],
          [
           98004,
           1700000
          ],
          [
           98075,
           1570000
          ],
          [
           98040,
           1170000
          ],
          [
           98040,
           947500
          ],
          [
           98040,
           1060000
          ],
          [
           98199,
           951250
          ],
          [
           98075,
           959900
          ],
          [
           98006,
           925000
          ],
          [
           98075,
           950000
          ],
          [
           98040,
           1050000
          ],
          [
           98033,
           1070000
          ],
          [
           98006,
           912000
          ],
          [
           98040,
           1140000
          ],
          [
           98199,
           1310000
          ],
          [
           98040,
           998000
          ],
          [
           98199,
           976000
          ],
          [
           98006,
           1690000
          ],
          [
           98053,
           950000
          ],
          [
           98053,
           899000
          ],
          [
           98053,
           1770000
          ],
          [
           98004,
           1010000
          ],
          [
           98004,
           1580000
          ],
          [
           98004,
           1650000
          ],
          [
           98006,
           1250000
          ],
          [
           98004,
           1560000
          ],
          [
           98075,
           1050000
          ],
          [
           98112,
           1570000
          ],
          [
           98040,
           950000
          ],
          [
           98006,
           903000
          ],
          [
           98112,
           998500
          ],
          [
           98004,
           1130000
          ],
          [
           98112,
           1230000
          ],
          [
           98004,
           1000000
          ],
          [
           98105,
           1300000
          ],
          [
           98040,
           1380000
          ],
          [
           98115,
           1230000
          ],
          [
           98004,
           1450000
          ],
          [
           98105,
           2560000
          ],
          [
           98040,
           1700000
          ],
          [
           98004,
           1600000
          ],
          [
           98115,
           1400000
          ],
          [
           98006,
           1080000
          ],
          [
           98004,
           1800000
          ],
          [
           98006,
           1170000
          ],
          [
           98006,
           1160000
          ],
          [
           98004,
           1170000
          ],
          [
           98040,
           1710000
          ],
          [
           98115,
           2300000
          ],
          [
           98105,
           1300000
          ],
          [
           98033,
           1020000
          ],
          [
           98075,
           2750000
          ],
          [
           98105,
           1660000
          ],
          [
           98040,
           1180000
          ],
          [
           98115,
           1330000
          ],
          [
           98033,
           1070000
          ],
          [
           98004,
           3200000
          ],
          [
           98199,
           950000
          ],
          [
           98112,
           1750000
          ],
          [
           98112,
           1140000
          ],
          [
           98004,
           1190000
          ],
          [
           98105,
           1110000
          ],
          [
           98006,
           1300000
          ],
          [
           98199,
           2800000
          ],
          [
           98075,
           968000
          ],
          [
           98075,
           948000
          ],
          [
           98040,
           1730000
          ],
          [
           98033,
           1420000
          ],
          [
           98105,
           1080000
          ],
          [
           98199,
           1240000
          ],
          [
           98112,
           1850000
          ],
          [
           98199,
           1280000
          ],
          [
           98006,
           1790000
          ],
          [
           98006,
           1600000
          ],
          [
           98004,
           1620000
          ],
          [
           98112,
           1480000
          ],
          [
           98115,
           1400000
          ],
          [
           98112,
           1620000
          ],
          [
           98040,
           1290000
          ],
          [
           98053,
           1130000
          ],
          [
           98115,
           1210000
          ],
          [
           98006,
           1030000
          ],
          [
           98112,
           3000000
          ],
          [
           98105,
           980000
          ],
          [
           98053,
           897500
          ],
          [
           98004,
           1400000
          ],
          [
           98075,
           936000
          ],
          [
           98004,
           1500000
          ],
          [
           98115,
           1100000
          ],
          [
           98112,
           1260000
          ],
          [
           98040,
           1060000
          ],
          [
           98040,
           1200000
          ],
          [
           98004,
           1110000
          ],
          [
           98004,
           2140000
          ],
          [
           98199,
           1300000
          ],
          [
           98004,
           1450000
          ],
          [
           98199,
           1310000
          ],
          [
           98040,
           994000
          ],
          [
           98040,
           1200000
          ],
          [
           98040,
           1960000
          ],
          [
           98004,
           1650000
          ],
          [
           98006,
           950000
          ],
          [
           98006,
           995000
          ],
          [
           98004,
           895000
          ],
          [
           98004,
           1650000
          ],
          [
           98040,
           1550000
          ],
          [
           98006,
           4210000
          ],
          [
           98004,
           943500
          ],
          [
           98004,
           899000
          ],
          [
           98199,
           1290000
          ],
          [
           98075,
           1170000
          ],
          [
           98004,
           1890000
          ],
          [
           98004,
           1030000
          ],
          [
           98112,
           940000
          ],
          [
           98199,
           990000
          ],
          [
           98006,
           932808
          ],
          [
           98199,
           1300000
          ],
          [
           98075,
           900000
          ],
          [
           98075,
           890000
          ],
          [
           98004,
           2540000
          ],
          [
           98004,
           945000
          ],
          [
           98040,
           1300000
          ],
          [
           98004,
           1100000
          ],
          [
           98112,
           1350000
          ],
          [
           98004,
           2410000
          ],
          [
           98033,
           1150000
          ],
          [
           98006,
           975000
          ],
          [
           98053,
           2280000
          ],
          [
           98075,
           899000
          ],
          [
           98004,
           1750000
          ],
          [
           98040,
           3100000
          ],
          [
           98004,
           1610000
          ],
          [
           98115,
           967000
          ],
          [
           98105,
           1250000
          ],
          [
           98112,
           2300000
          ],
          [
           98006,
           1700000
          ],
          [
           98112,
           2250000
          ],
          [
           98004,
           915000
          ],
          [
           98033,
           1140000
          ],
          [
           98105,
           906000
          ],
          [
           98040,
           980000
          ],
          [
           98112,
           1250000
          ],
          [
           98040,
           1610000
          ],
          [
           98004,
           1700000
          ],
          [
           98112,
           1010000
          ],
          [
           98115,
           910000
          ],
          [
           98112,
           2550000
          ],
          [
           98040,
           2000000
          ],
          [
           98199,
           905000
          ],
          [
           98199,
           2000000
          ],
          [
           98112,
           1130000
          ],
          [
           98105,
           1690000
          ],
          [
           98004,
           1150000
          ],
          [
           98199,
           1100000
          ],
          [
           98040,
           1580000
          ],
          [
           98075,
           1050000
          ],
          [
           98115,
           1100000
          ],
          [
           98112,
           1270000
          ],
          [
           98033,
           1170000
          ],
          [
           98006,
           975000
          ],
          [
           98112,
           1330000
          ],
          [
           98033,
           1650000
          ],
          [
           98004,
           3170000
          ],
          [
           98004,
           1780000
          ],
          [
           98004,
           1240000
          ],
          [
           98199,
           1280000
          ],
          [
           98040,
           975000
          ],
          [
           98199,
           898000
          ],
          [
           98105,
           1030000
          ],
          [
           98004,
           1900000
          ],
          [
           98006,
           2340000
          ],
          [
           98112,
           910000
          ],
          [
           98112,
           1020000
          ],
          [
           98199,
           1810000
          ],
          [
           98199,
           950000
          ],
          [
           98004,
           1800000
          ],
          [
           98075,
           1150000
          ],
          [
           98004,
           1890000
          ],
          [
           98075,
           891500
          ],
          [
           98004,
           975000
          ],
          [
           98040,
           990000
          ],
          [
           98112,
           1160000
          ],
          [
           98033,
           3400000
          ],
          [
           98040,
           1820000
          ],
          [
           98006,
           940000
          ],
          [
           98112,
           1400000
          ],
          [
           98112,
           2890000
          ],
          [
           98006,
           1680000
          ],
          [
           98112,
           1500000
          ],
          [
           98006,
           2110000
          ],
          [
           98112,
           2230000
          ],
          [
           98105,
           1010000
          ],
          [
           98199,
           1340000
          ],
          [
           98006,
           913888
          ],
          [
           98115,
           1290000
          ],
          [
           98004,
           2200000
          ],
          [
           98112,
           1630000
          ],
          [
           98112,
           1230000
          ],
          [
           98040,
           925000
          ],
          [
           98112,
           960000
          ],
          [
           98115,
           1100000
          ],
          [
           98006,
           975000
          ],
          [
           98053,
           1690000
          ],
          [
           98053,
           1800000
          ],
          [
           98004,
           920000
          ],
          [
           98105,
           1580000
          ],
          [
           98033,
           1010000
          ],
          [
           98006,
           974350
          ],
          [
           98199,
           1120000
          ],
          [
           98040,
           996000
          ],
          [
           98040,
           1260000
          ],
          [
           98004,
           1990000
          ],
          [
           98040,
           984000
          ],
          [
           98053,
           925000
          ],
          [
           98004,
           1000000
          ],
          [
           98033,
           1380000
          ],
          [
           98006,
           935000
          ],
          [
           98006,
           1480000
          ],
          [
           98075,
           1470000
          ],
          [
           98105,
           998000
          ],
          [
           98040,
           1160000
          ],
          [
           98199,
           1200000
          ],
          [
           98040,
           989900
          ],
          [
           98199,
           967500
          ],
          [
           98075,
           998000
          ],
          [
           98115,
           907500
          ],
          [
           98006,
           1050000
          ],
          [
           98115,
           1180000
          ],
          [
           98006,
           925000
          ],
          [
           98040,
           2600000
          ],
          [
           98006,
           1070000
          ],
          [
           98040,
           1520000
          ],
          [
           98006,
           1030000
          ],
          [
           98105,
           1340000
          ],
          [
           98040,
           1380000
          ],
          [
           98004,
           1500000
          ],
          [
           98006,
           898000
          ],
          [
           98105,
           1020000
          ],
          [
           98112,
           1430000
          ],
          [
           98199,
           972000
          ],
          [
           98006,
           935000
          ],
          [
           98199,
           970000
          ],
          [
           98199,
           1300000
          ],
          [
           98115,
           1540000
          ],
          [
           98040,
           1080000
          ],
          [
           98004,
           1050000
          ],
          [
           98004,
           1580000
          ],
          [
           98115,
           925000
          ],
          [
           98004,
           1030000
          ],
          [
           98115,
           937750
          ],
          [
           98004,
           1770000
          ],
          [
           98199,
           2150000
          ],
          [
           98004,
           1950000
          ],
          [
           98112,
           2200000
          ],
          [
           98053,
           975000
          ],
          [
           98004,
           1900000
          ],
          [
           98004,
           1300000
          ],
          [
           98033,
           1030000
          ],
          [
           98006,
           1150000
          ],
          [
           98004,
           1400000
          ],
          [
           98004,
           2300000
          ],
          [
           98115,
           1310000
          ],
          [
           98006,
           1470000
          ],
          [
           98040,
           900000
          ],
          [
           98033,
           1040000
          ],
          [
           98112,
           1050000
          ],
          [
           98004,
           990000
          ],
          [
           98006,
           1000000
          ],
          [
           98040,
           990000
          ],
          [
           98075,
           3200000
          ],
          [
           98040,
           1080000
          ],
          [
           98006,
           1110000
          ],
          [
           98040,
           1190000
          ],
          [
           98112,
           1050000
          ],
          [
           98115,
           910000
          ],
          [
           98004,
           1830000
          ],
          [
           98006,
           1010000
          ],
          [
           98040,
           1680000
          ],
          [
           98199,
           910000
          ],
          [
           98112,
           1720000
          ],
          [
           98075,
           889000
          ],
          [
           98006,
           1160000
          ],
          [
           98004,
           925000
          ],
          [
           98004,
           1680000
          ],
          [
           98075,
           912000
          ],
          [
           98004,
           965800
          ],
          [
           98105,
           1690000
          ],
          [
           98040,
           1260000
          ],
          [
           98053,
           894400
          ],
          [
           98053,
           1300000
          ],
          [
           98115,
           1190000
          ],
          [
           98006,
           2480000
          ],
          [
           98112,
           1300000
          ],
          [
           98006,
           1160000
          ],
          [
           98004,
           1570000
          ],
          [
           98199,
           994000
          ],
          [
           98075,
           1430000
          ],
          [
           98033,
           1180000
          ],
          [
           98115,
           1640000
          ],
          [
           98040,
           910000
          ],
          [
           98006,
           981000
          ],
          [
           98040,
           1190000
          ],
          [
           98004,
           1350000
          ],
          [
           98004,
           987000
          ],
          [
           98004,
           1190000
          ],
          [
           98112,
           1280000
          ],
          [
           98199,
           1400000
          ],
          [
           98006,
           1370000
          ],
          [
           98006,
           1250000
          ],
          [
           98033,
           1390000
          ],
          [
           98112,
           1430000
          ],
          [
           98040,
           1550000
          ],
          [
           98112,
           1930000
          ],
          [
           98004,
           915000
          ],
          [
           98004,
           1300000
          ],
          [
           98033,
           1820000
          ],
          [
           98105,
           1290000
          ],
          [
           98115,
           925000
          ],
          [
           98040,
           1400000
          ],
          [
           98004,
           2330000
          ],
          [
           98006,
           1250000
          ],
          [
           98004,
           1060000
          ],
          [
           98199,
           1030000
          ],
          [
           98040,
           1350000
          ],
          [
           98040,
           1390000
          ],
          [
           98115,
           935000
          ],
          [
           98033,
           1660000
          ],
          [
           98033,
           1540000
          ],
          [
           98040,
           926250
          ],
          [
           98006,
           1750000
          ],
          [
           98004,
           1220000
          ],
          [
           98033,
           1880000
          ],
          [
           98112,
           1180000
          ],
          [
           98006,
           1400000
          ],
          [
           98004,
           1980000
          ],
          [
           98006,
           950000
          ],
          [
           98112,
           1000000
          ],
          [
           98105,
           1190000
          ],
          [
           98040,
           968000
          ],
          [
           98004,
           1810000
          ],
          [
           98112,
           1350000
          ],
          [
           98199,
           1300000
          ],
          [
           98115,
           1310000
          ],
          [
           98006,
           1200000
          ],
          [
           98112,
           950000
          ],
          [
           98004,
           1100000
          ],
          [
           98112,
           1050000
          ],
          [
           98004,
           1150000
          ],
          [
           98112,
           2140000
          ],
          [
           98033,
           1150000
          ],
          [
           98199,
           1650000
          ],
          [
           98033,
           2570000
          ],
          [
           98040,
           1400000
          ],
          [
           98105,
           1400000
          ],
          [
           98053,
           1200000
          ],
          [
           98199,
           1020000
          ],
          [
           98004,
           1390000
          ],
          [
           98053,
           920000
          ],
          [
           98004,
           3100000
          ],
          [
           98075,
           965000
          ],
          [
           98199,
           957000
          ],
          [
           98105,
           1480000
          ],
          [
           98053,
           889000
          ],
          [
           98075,
           960000
          ],
          [
           98199,
           1780000
          ],
          [
           98040,
           1300000
          ],
          [
           98004,
           2500000
          ],
          [
           98112,
           1190000
          ],
          [
           98040,
           993500
          ],
          [
           98040,
           1380000
          ],
          [
           98033,
           1090000
          ],
          [
           98112,
           1970000
          ],
          [
           98112,
           1460000
          ],
          [
           98033,
           1450000
          ],
          [
           98040,
           1290000
          ],
          [
           98112,
           2250000
          ],
          [
           98004,
           1630000
          ],
          [
           98075,
           919000
          ],
          [
           98004,
           1800000
          ],
          [
           98004,
           1390000
          ],
          [
           98040,
           1870000
          ],
          [
           98004,
           1560000
          ],
          [
           98040,
           960000
          ],
          [
           98112,
           1050000
          ],
          [
           98006,
           982000
          ],
          [
           98199,
           1050000
          ],
          [
           98006,
           1200000
          ],
          [
           98040,
           970000
          ],
          [
           98199,
           1350000
          ],
          [
           98199,
           970000
          ],
          [
           98033,
           1100000
          ],
          [
           98105,
           920000
          ],
          [
           98199,
           924000
          ],
          [
           98033,
           1360000
          ],
          [
           98199,
           1080000
          ],
          [
           98006,
           1320000
          ],
          [
           98105,
           990000
          ],
          [
           98004,
           1210000
          ],
          [
           98112,
           895000
          ],
          [
           98006,
           950000
          ],
          [
           98040,
           1650000
          ],
          [
           98040,
           950000
          ],
          [
           98006,
           1320000
          ],
          [
           98112,
           906000
          ],
          [
           98105,
           1210000
          ],
          [
           98040,
           2030000
          ],
          [
           98112,
           1990000
          ],
          [
           98040,
           1320000
          ],
          [
           98004,
           1440000
          ],
          [
           98105,
           980000
          ],
          [
           98040,
           1250000
          ],
          [
           98004,
           1740000
          ],
          [
           98115,
           970000
          ],
          [
           98006,
           915557
          ],
          [
           98040,
           1680000
          ],
          [
           98040,
           1700000
          ],
          [
           98006,
           1100000
          ],
          [
           98033,
           1000000
          ],
          [
           98112,
           1390000
          ],
          [
           98105,
           1860000
          ],
          [
           98040,
           2370000
          ],
          [
           98033,
           1210000
          ],
          [
           98199,
           1390000
          ],
          [
           98006,
           1360000
          ],
          [
           98033,
           968060
          ],
          [
           98004,
           921000
          ],
          [
           98053,
           895990
          ],
          [
           98006,
           3300000
          ],
          [
           98199,
           1230000
          ],
          [
           98105,
           1270000
          ],
          [
           98112,
           2920000
          ],
          [
           98199,
           1140000
          ],
          [
           98112,
           952500
          ],
          [
           98033,
           1500000
          ],
          [
           98040,
           1070000
          ],
          [
           98040,
           1250000
          ],
          [
           98112,
           1060000
          ],
          [
           98006,
           1420000
          ],
          [
           98004,
           1730000
          ],
          [
           98105,
           934000
          ],
          [
           98006,
           905000
          ],
          [
           98112,
           3300000
          ],
          [
           98004,
           3650000
          ],
          [
           98004,
           1650000
          ],
          [
           98199,
           1100000
          ],
          [
           98105,
           2950000
          ],
          [
           98004,
           1100000
          ],
          [
           98004,
           1320000
          ],
          [
           98006,
           1160000
          ],
          [
           98112,
           1600000
          ],
          [
           98112,
           1330000
          ],
          [
           98115,
           1150000
          ],
          [
           98105,
           1160000
          ],
          [
           98006,
           946000
          ],
          [
           98075,
           999000
          ],
          [
           98004,
           1030000
          ],
          [
           98040,
           1090000
          ],
          [
           98115,
           1390000
          ],
          [
           98040,
           1300000
          ],
          [
           98006,
           925850
          ],
          [
           98004,
           1950000
          ],
          [
           98004,
           1500000
          ],
          [
           98105,
           2180000
          ],
          [
           98004,
           1050000
          ],
          [
           98006,
           909000
          ],
          [
           98033,
           910000
          ],
          [
           98115,
           1150000
          ],
          [
           98115,
           1160000
          ],
          [
           98040,
           955000
          ],
          [
           98006,
           1240000
          ],
          [
           98006,
           1410000
          ],
          [
           98006,
           1510000
          ],
          [
           98112,
           940000
          ],
          [
           98006,
           925000
          ],
          [
           98040,
           1230000
          ],
          [
           98105,
           1420000
          ],
          [
           98006,
           962800
          ],
          [
           98004,
           980000
          ],
          [
           98006,
           920000
          ],
          [
           98053,
           890000
          ],
          [
           98115,
           935000
          ],
          [
           98112,
           1000000
          ],
          [
           98006,
           925000
          ],
          [
           98105,
           930000
          ],
          [
           98112,
           900000
          ],
          [
           98040,
           2000000
          ],
          [
           98075,
           1060000
          ],
          [
           98075,
           1000000
          ],
          [
           98040,
           959000
          ],
          [
           98105,
           1550000
          ],
          [
           98112,
           1800000
          ],
          [
           98053,
           930000
          ],
          [
           98033,
           1430000
          ],
          [
           98199,
           2160000
          ],
          [
           98033,
           1550000
          ],
          [
           98006,
           1900000
          ],
          [
           98053,
           888550
          ],
          [
           98199,
           1230000
          ],
          [
           98004,
           1390000
          ],
          [
           98006,
           2400000
          ],
          [
           98004,
           968000
          ],
          [
           98004,
           1980000
          ],
          [
           98006,
           1280000
          ],
          [
           98115,
           945000
          ],
          [
           98199,
           1360000
          ],
          [
           98053,
           1360000
          ],
          [
           98199,
           921800
          ],
          [
           98004,
           1260000
          ],
          [
           98004,
           1850000
          ],
          [
           98199,
           1050000
          ],
          [
           98006,
           915000
          ],
          [
           98004,
           1450000
          ],
          [
           98075,
           949950
          ],
          [
           98033,
           889950
          ],
          [
           98115,
           1210000
          ],
          [
           98004,
           2640000
          ],
          [
           98033,
           1530000
          ],
          [
           98004,
           2320000
          ],
          [
           98075,
           1260000
          ],
          [
           98033,
           1710000
          ],
          [
           98075,
           907687
          ],
          [
           98040,
           1330000
          ],
          [
           98033,
           1260000
          ],
          [
           98112,
           1600000
          ],
          [
           98004,
           1560000
          ],
          [
           98112,
           950000
          ],
          [
           98004,
           1700000
          ],
          [
           98004,
           1270000
          ],
          [
           98053,
           1180000
          ],
          [
           98033,
           1210000
          ],
          [
           98115,
           897000
          ],
          [
           98033,
           1100000
          ],
          [
           98033,
           2700000
          ],
          [
           98033,
           1040000
          ],
          [
           98075,
           895000
          ],
          [
           98199,
           1040000
          ],
          [
           98075,
           1060000
          ],
          [
           98004,
           1750000
          ],
          [
           98033,
           920000
          ],
          [
           98033,
           939000
          ],
          [
           98033,
           899900
          ],
          [
           98053,
           1240000
          ],
          [
           98040,
           1580000
          ],
          [
           98075,
           1480000
          ],
          [
           98004,
           1750000
          ],
          [
           98105,
           1310000
          ],
          [
           98033,
           1790000
          ],
          [
           98075,
           895900
          ],
          [
           98004,
           2150000
          ],
          [
           98112,
           1330000
          ],
          [
           98033,
           2230000
          ],
          [
           98115,
           1300000
          ],
          [
           98075,
           1210000
          ],
          [
           98075,
           919990
          ],
          [
           98004,
           3200000
          ],
          [
           98033,
           2350000
          ],
          [
           98033,
           1600000
          ],
          [
           98033,
           1210000
          ],
          [
           98112,
           1800000
          ],
          [
           98112,
           1290000
          ],
          [
           98006,
           998000
          ],
          [
           98075,
           1140000
          ],
          [
           98004,
           3000000
          ],
          [
           98004,
           3350000
          ],
          [
           98075,
           900000
          ],
          [
           98075,
           1290000
          ],
          [
           98115,
           953007
          ],
          [
           98004,
           1700000
          ],
          [
           98004,
           1900000
          ],
          [
           98199,
           2950000
          ],
          [
           98075,
           908990
          ],
          [
           98006,
           1240000
          ],
          [
           98075,
           1180000
          ],
          [
           98075,
           969990
          ],
          [
           98053,
           955000
          ],
          [
           98033,
           982000
          ],
          [
           98040,
           1510000
          ],
          [
           98040,
           2320000
          ],
          [
           98075,
           914154
          ],
          [
           98075,
           1050000
          ],
          [
           98033,
           909950
          ],
          [
           98033,
           1480000
          ],
          [
           98033,
           1130000
          ],
          [
           98033,
           1140000
          ],
          [
           98115,
           1050000
          ],
          [
           98105,
           1490000
          ],
          [
           98040,
           1600000
          ],
          [
           98006,
           1750000
          ],
          [
           98033,
           1280000
          ],
          [
           98115,
           975000
          ],
          [
           98115,
           1100000
          ],
          [
           98004,
           1940000
          ],
          [
           98006,
           1180000
          ],
          [
           98112,
           1300000
          ],
          [
           98115,
           925000
          ],
          [
           98033,
           1240000
          ],
          [
           98004,
           910000
          ],
          [
           98006,
           1270000
          ],
          [
           98033,
           899000
          ],
          [
           98053,
           1050000
          ],
          [
           98006,
           900000
          ],
          [
           98033,
           1270000
          ],
          [
           98115,
           1880000
          ],
          [
           98004,
           1800000
          ],
          [
           98053,
           950000
          ],
          [
           98033,
           1400000
          ],
          [
           98033,
           963000
          ],
          [
           98075,
           1070000
          ],
          [
           98040,
           1840000
          ],
          [
           98033,
           1100000
          ],
          [
           98075,
           1060000
          ],
          [
           98006,
           1080000
          ],
          [
           98006,
           1240000
          ],
          [
           98004,
           950000
          ],
          [
           98040,
           2350000
          ],
          [
           98112,
           1700000
          ],
          [
           98033,
           1350000
          ],
          [
           98033,
           999000
          ],
          [
           98006,
           2000000
          ],
          [
           98004,
           2070000
          ],
          [
           98004,
           1770000
          ],
          [
           98075,
           890000
          ],
          [
           98115,
           1050000
          ],
          [
           98199,
           1110000
          ],
          [
           98075,
           914500
          ],
          [
           98033,
           1020000
          ],
          [
           98004,
           1990000
          ],
          [
           98033,
           1050000
          ],
          [
           98004,
           1750000
          ],
          [
           98199,
           1010000
          ],
          [
           98033,
           1720000
          ],
          [
           98075,
           890776
          ],
          [
           98053,
           915000
          ],
          [
           98075,
           1150000
          ],
          [
           98053,
           1410000
          ],
          [
           98004,
           3000000
          ],
          [
           98075,
           1330000
          ],
          [
           98004,
           999999
          ],
          [
           98006,
           1880000
          ],
          [
           98004,
           1700000
          ],
          [
           98040,
           1580000
          ],
          [
           98004,
           1540000
          ]
         ],
         "hovertemplate": "<b>%{hovertext}</b><br><br>lat=%{lat}<br>long=%{lon}<br>sold_for_price=%{customdata[1]:,.0f}<br>buying_recommendation=%{marker.color}<extra></extra>",
         "hovertext": [
          98053,
          98040,
          98105,
          98004,
          98004,
          98199,
          98040,
          98004,
          98004,
          98006,
          98075,
          98033,
          98033,
          98040,
          98033,
          98004,
          98006,
          98006,
          98040,
          98033,
          98006,
          98004,
          98040,
          98004,
          98006,
          98006,
          98033,
          98033,
          98053,
          98112,
          98075,
          98199,
          98040,
          98040,
          98115,
          98004,
          98105,
          98040,
          98004,
          98105,
          98006,
          98112,
          98006,
          98006,
          98040,
          98199,
          98004,
          98040,
          98040,
          98033,
          98112,
          98004,
          98006,
          98199,
          98033,
          98053,
          98006,
          98033,
          98115,
          98033,
          98105,
          98053,
          98006,
          98033,
          98112,
          98004,
          98004,
          98040,
          98040,
          98112,
          98006,
          98115,
          98075,
          98199,
          98105,
          98033,
          98004,
          98040,
          98004,
          98115,
          98040,
          98199,
          98004,
          98053,
          98040,
          98112,
          98112,
          98040,
          98040,
          98004,
          98033,
          98033,
          98112,
          98004,
          98006,
          98006,
          98199,
          98053,
          98040,
          98006,
          98112,
          98053,
          98112,
          98006,
          98033,
          98105,
          98040,
          98112,
          98040,
          98112,
          98040,
          98006,
          98040,
          98004,
          98075,
          98105,
          98004,
          98040,
          98006,
          98004,
          98199,
          98006,
          98006,
          98040,
          98004,
          98112,
          98004,
          98004,
          98112,
          98075,
          98053,
          98040,
          98004,
          98033,
          98040,
          98004,
          98006,
          98075,
          98004,
          98199,
          98040,
          98004,
          98040,
          98006,
          98112,
          98006,
          98006,
          98004,
          98053,
          98004,
          98006,
          98040,
          98033,
          98040,
          98033,
          98006,
          98004,
          98004,
          98040,
          98033,
          98053,
          98115,
          98199,
          98105,
          98040,
          98006,
          98053,
          98040,
          98004,
          98112,
          98115,
          98006,
          98004,
          98115,
          98112,
          98006,
          98040,
          98033,
          98004,
          98112,
          98105,
          98112,
          98115,
          98112,
          98112,
          98004,
          98006,
          98004,
          98112,
          98004,
          98004,
          98115,
          98004,
          98040,
          98112,
          98053,
          98004,
          98112,
          98004,
          98040,
          98112,
          98040,
          98004,
          98075,
          98053,
          98040,
          98040,
          98004,
          98040,
          98006,
          98115,
          98112,
          98033,
          98004,
          98105,
          98033,
          98112,
          98040,
          98105,
          98112,
          98040,
          98199,
          98006,
          98112,
          98004,
          98075,
          98004,
          98004,
          98075,
          98075,
          98004,
          98004,
          98115,
          98004,
          98006,
          98004,
          98105,
          98105,
          98199,
          98004,
          98040,
          98040,
          98105,
          98006,
          98040,
          98075,
          98006,
          98075,
          98004,
          98075,
          98040,
          98112,
          98040,
          98075,
          98004,
          98199,
          98040,
          98004,
          98105,
          98040,
          98112,
          98040,
          98004,
          98199,
          98075,
          98112,
          98053,
          98112,
          98112,
          98006,
          98004,
          98004,
          98053,
          98053,
          98105,
          98040,
          98075,
          98105,
          98006,
          98105,
          98053,
          98053,
          98112,
          98033,
          98053,
          98004,
          98115,
          98040,
          98199,
          98033,
          98033,
          98040,
          98006,
          98033,
          98004,
          98053,
          98004,
          98033,
          98040,
          98004,
          98006,
          98112,
          98004,
          98006,
          98004,
          98112,
          98075,
          98075,
          98004,
          98105,
          98040,
          98006,
          98040,
          98040,
          98053,
          98033,
          98004,
          98040,
          98006,
          98006,
          98040,
          98053,
          98112,
          98112,
          98040,
          98033,
          98040,
          98040,
          98199,
          98105,
          98006,
          98105,
          98199,
          98112,
          98199,
          98004,
          98033,
          98006,
          98040,
          98004,
          98004,
          98006,
          98040,
          98004,
          98112,
          98006,
          98006,
          98199,
          98053,
          98105,
          98105,
          98033,
          98040,
          98199,
          98053,
          98033,
          98033,
          98033,
          98033,
          98004,
          98112,
          98040,
          98040,
          98112,
          98004,
          98033,
          98040,
          98006,
          98105,
          98033,
          98004,
          98053,
          98004,
          98006,
          98004,
          98006,
          98115,
          98004,
          98199,
          98105,
          98004,
          98033,
          98112,
          98006,
          98006,
          98033,
          98112,
          98006,
          98040,
          98115,
          98004,
          98006,
          98105,
          98199,
          98115,
          98040,
          98004,
          98112,
          98040,
          98112,
          98040,
          98006,
          98006,
          98053,
          98040,
          98112,
          98040,
          98105,
          98112,
          98033,
          98040,
          98112,
          98004,
          98112,
          98006,
          98004,
          98006,
          98105,
          98006,
          98006,
          98033,
          98004,
          98006,
          98006,
          98006,
          98040,
          98199,
          98004,
          98053,
          98199,
          98033,
          98040,
          98112,
          98006,
          98033,
          98112,
          98040,
          98006,
          98105,
          98006,
          98075,
          98115,
          98040,
          98112,
          98004,
          98006,
          98199,
          98105,
          98004,
          98199,
          98040,
          98053,
          98075,
          98006,
          98040,
          98075,
          98004,
          98004,
          98004,
          98006,
          98053,
          98004,
          98040,
          98115,
          98033,
          98033,
          98115,
          98112,
          98053,
          98006,
          98006,
          98199,
          98006,
          98006,
          98112,
          98033,
          98040,
          98040,
          98105,
          98040,
          98105,
          98112,
          98033,
          98053,
          98075,
          98199,
          98040,
          98112,
          98006,
          98033,
          98006,
          98006,
          98040,
          98112,
          98040,
          98033,
          98006,
          98006,
          98004,
          98004,
          98004,
          98199,
          98040,
          98053,
          98004,
          98006,
          98105,
          98040,
          98105,
          98004,
          98112,
          98004,
          98105,
          98112,
          98199,
          98075,
          98004,
          98105,
          98033,
          98004,
          98112,
          98006,
          98075,
          98115,
          98040,
          98040,
          98006,
          98112,
          98053,
          98040,
          98006,
          98075,
          98112,
          98112,
          98040,
          98040,
          98040,
          98105,
          98075,
          98040,
          98199,
          98105,
          98033,
          98075,
          98075,
          98115,
          98112,
          98006,
          98199,
          98112,
          98033,
          98105,
          98112,
          98006,
          98112,
          98040,
          98053,
          98199,
          98004,
          98075,
          98040,
          98040,
          98040,
          98199,
          98075,
          98006,
          98075,
          98040,
          98033,
          98006,
          98040,
          98199,
          98040,
          98199,
          98006,
          98053,
          98053,
          98053,
          98004,
          98004,
          98004,
          98006,
          98004,
          98075,
          98112,
          98040,
          98006,
          98112,
          98004,
          98112,
          98004,
          98105,
          98040,
          98115,
          98004,
          98105,
          98040,
          98004,
          98115,
          98006,
          98004,
          98006,
          98006,
          98004,
          98040,
          98115,
          98105,
          98033,
          98075,
          98105,
          98040,
          98115,
          98033,
          98004,
          98199,
          98112,
          98112,
          98004,
          98105,
          98006,
          98199,
          98075,
          98075,
          98040,
          98033,
          98105,
          98199,
          98112,
          98199,
          98006,
          98006,
          98004,
          98112,
          98115,
          98112,
          98040,
          98053,
          98115,
          98006,
          98112,
          98105,
          98053,
          98004,
          98075,
          98004,
          98115,
          98112,
          98040,
          98040,
          98004,
          98004,
          98199,
          98004,
          98199,
          98040,
          98040,
          98040,
          98004,
          98006,
          98006,
          98004,
          98004,
          98040,
          98006,
          98004,
          98004,
          98199,
          98075,
          98004,
          98004,
          98112,
          98199,
          98006,
          98199,
          98075,
          98075,
          98004,
          98004,
          98040,
          98004,
          98112,
          98004,
          98033,
          98006,
          98053,
          98075,
          98004,
          98040,
          98004,
          98115,
          98105,
          98112,
          98006,
          98112,
          98004,
          98033,
          98105,
          98040,
          98112,
          98040,
          98004,
          98112,
          98115,
          98112,
          98040,
          98199,
          98199,
          98112,
          98105,
          98004,
          98199,
          98040,
          98075,
          98115,
          98112,
          98033,
          98006,
          98112,
          98033,
          98004,
          98004,
          98004,
          98199,
          98040,
          98199,
          98105,
          98004,
          98006,
          98112,
          98112,
          98199,
          98199,
          98004,
          98075,
          98004,
          98075,
          98004,
          98040,
          98112,
          98033,
          98040,
          98006,
          98112,
          98112,
          98006,
          98112,
          98006,
          98112,
          98105,
          98199,
          98006,
          98115,
          98004,
          98112,
          98112,
          98040,
          98112,
          98115,
          98006,
          98053,
          98053,
          98004,
          98105,
          98033,
          98006,
          98199,
          98040,
          98040,
          98004,
          98040,
          98053,
          98004,
          98033,
          98006,
          98006,
          98075,
          98105,
          98040,
          98199,
          98040,
          98199,
          98075,
          98115,
          98006,
          98115,
          98006,
          98040,
          98006,
          98040,
          98006,
          98105,
          98040,
          98004,
          98006,
          98105,
          98112,
          98199,
          98006,
          98199,
          98199,
          98115,
          98040,
          98004,
          98004,
          98115,
          98004,
          98115,
          98004,
          98199,
          98004,
          98112,
          98053,
          98004,
          98004,
          98033,
          98006,
          98004,
          98004,
          98115,
          98006,
          98040,
          98033,
          98112,
          98004,
          98006,
          98040,
          98075,
          98040,
          98006,
          98040,
          98112,
          98115,
          98004,
          98006,
          98040,
          98199,
          98112,
          98075,
          98006,
          98004,
          98004,
          98075,
          98004,
          98105,
          98040,
          98053,
          98053,
          98115,
          98006,
          98112,
          98006,
          98004,
          98199,
          98075,
          98033,
          98115,
          98040,
          98006,
          98040,
          98004,
          98004,
          98004,
          98112,
          98199,
          98006,
          98006,
          98033,
          98112,
          98040,
          98112,
          98004,
          98004,
          98033,
          98105,
          98115,
          98040,
          98004,
          98006,
          98004,
          98199,
          98040,
          98040,
          98115,
          98033,
          98033,
          98040,
          98006,
          98004,
          98033,
          98112,
          98006,
          98004,
          98006,
          98112,
          98105,
          98040,
          98004,
          98112,
          98199,
          98115,
          98006,
          98112,
          98004,
          98112,
          98004,
          98112,
          98033,
          98199,
          98033,
          98040,
          98105,
          98053,
          98199,
          98004,
          98053,
          98004,
          98075,
          98199,
          98105,
          98053,
          98075,
          98199,
          98040,
          98004,
          98112,
          98040,
          98040,
          98033,
          98112,
          98112,
          98033,
          98040,
          98112,
          98004,
          98075,
          98004,
          98004,
          98040,
          98004,
          98040,
          98112,
          98006,
          98199,
          98006,
          98040,
          98199,
          98199,
          98033,
          98105,
          98199,
          98033,
          98199,
          98006,
          98105,
          98004,
          98112,
          98006,
          98040,
          98040,
          98006,
          98112,
          98105,
          98040,
          98112,
          98040,
          98004,
          98105,
          98040,
          98004,
          98115,
          98006,
          98040,
          98040,
          98006,
          98033,
          98112,
          98105,
          98040,
          98033,
          98199,
          98006,
          98033,
          98004,
          98053,
          98006,
          98199,
          98105,
          98112,
          98199,
          98112,
          98033,
          98040,
          98040,
          98112,
          98006,
          98004,
          98105,
          98006,
          98112,
          98004,
          98004,
          98199,
          98105,
          98004,
          98004,
          98006,
          98112,
          98112,
          98115,
          98105,
          98006,
          98075,
          98004,
          98040,
          98115,
          98040,
          98006,
          98004,
          98004,
          98105,
          98004,
          98006,
          98033,
          98115,
          98115,
          98040,
          98006,
          98006,
          98006,
          98112,
          98006,
          98040,
          98105,
          98006,
          98004,
          98006,
          98053,
          98115,
          98112,
          98006,
          98105,
          98112,
          98040,
          98075,
          98075,
          98040,
          98105,
          98112,
          98053,
          98033,
          98199,
          98033,
          98006,
          98053,
          98199,
          98004,
          98006,
          98004,
          98004,
          98006,
          98115,
          98199,
          98053,
          98199,
          98004,
          98004,
          98199,
          98006,
          98004,
          98075,
          98033,
          98115,
          98004,
          98033,
          98004,
          98075,
          98033,
          98075,
          98040,
          98033,
          98112,
          98004,
          98112,
          98004,
          98004,
          98053,
          98033,
          98115,
          98033,
          98033,
          98033,
          98075,
          98199,
          98075,
          98004,
          98033,
          98033,
          98033,
          98053,
          98040,
          98075,
          98004,
          98105,
          98033,
          98075,
          98004,
          98112,
          98033,
          98115,
          98075,
          98075,
          98004,
          98033,
          98033,
          98033,
          98112,
          98112,
          98006,
          98075,
          98004,
          98004,
          98075,
          98075,
          98115,
          98004,
          98004,
          98199,
          98075,
          98006,
          98075,
          98075,
          98053,
          98033,
          98040,
          98040,
          98075,
          98075,
          98033,
          98033,
          98033,
          98033,
          98115,
          98105,
          98040,
          98006,
          98033,
          98115,
          98115,
          98004,
          98006,
          98112,
          98115,
          98033,
          98004,
          98006,
          98033,
          98053,
          98006,
          98033,
          98115,
          98004,
          98053,
          98033,
          98033,
          98075,
          98040,
          98033,
          98075,
          98006,
          98006,
          98004,
          98040,
          98112,
          98033,
          98033,
          98006,
          98004,
          98004,
          98075,
          98115,
          98199,
          98075,
          98033,
          98004,
          98033,
          98004,
          98199,
          98033,
          98075,
          98053,
          98075,
          98053,
          98004,
          98075,
          98004,
          98006,
          98004,
          98040,
          98004
         ],
         "lat": [
          47.6561,
          47.5316,
          47.6571,
          47.5815,
          47.6303,
          47.6506,
          47.5873,
          47.5814,
          47.6141,
          47.562,
          47.6012,
          47.6477,
          47.6627,
          47.5673,
          47.6489,
          47.6312,
          47.5503,
          47.5503,
          47.5639,
          47.6891,
          47.5543,
          47.6294,
          47.5634,
          47.6408,
          47.5637,
          47.5521,
          47.684,
          47.6821,
          47.6554,
          47.6415,
          47.5931,
          47.6452,
          47.5666,
          47.5494,
          47.6821,
          47.6245,
          47.6597,
          47.5553,
          47.5894,
          47.6585,
          47.5511,
          47.6196,
          47.5506,
          47.5619,
          47.5602,
          47.6347,
          47.6209,
          47.5368,
          47.5627,
          47.6597,
          47.6364,
          47.6271,
          47.5484,
          47.6327,
          47.6476,
          47.6849,
          47.5634,
          47.6699,
          47.6849,
          47.6767,
          47.6609,
          47.634,
          47.5612,
          47.6851,
          47.6189,
          47.6154,
          47.6178,
          47.5786,
          47.5631,
          47.6227,
          47.5531,
          47.6948,
          47.5852,
          47.6408,
          47.6696,
          47.6537,
          47.6232,
          47.5421,
          47.6132,
          47.6919,
          47.5318,
          47.647,
          47.6194,
          47.6624,
          47.5833,
          47.6393,
          47.6258,
          47.5934,
          47.5774,
          47.6377,
          47.6878,
          47.652,
          47.6255,
          47.6292,
          47.5671,
          47.5526,
          47.6482,
          47.6671,
          47.5739,
          47.5573,
          47.6315,
          47.6664,
          47.6298,
          47.5566,
          47.659,
          47.6702,
          47.5833,
          47.632,
          47.5779,
          47.6256,
          47.585,
          47.555,
          47.5826,
          47.6003,
          47.5812,
          47.6565,
          47.5927,
          47.561,
          47.5487,
          47.6275,
          47.6456,
          47.5471,
          47.5524,
          47.5578,
          47.5922,
          47.6406,
          47.5892,
          47.5831,
          47.6394,
          47.5684,
          47.6471,
          47.5377,
          47.6444,
          47.681,
          47.5571,
          47.582,
          47.5696,
          47.5899,
          47.6151,
          47.6396,
          47.5829,
          47.5988,
          47.5791,
          47.5457,
          47.6381,
          47.5605,
          47.5605,
          47.6005,
          47.6676,
          47.6144,
          47.544,
          47.5468,
          47.6533,
          47.5726,
          47.674,
          47.5533,
          47.6444,
          47.6218,
          47.5761,
          47.6512,
          47.6844,
          47.6807,
          47.653,
          47.6644,
          47.5806,
          47.5447,
          47.6617,
          47.5373,
          47.6499,
          47.6249,
          47.6834,
          47.5522,
          47.5901,
          47.6743,
          47.6331,
          47.5547,
          47.59,
          47.6651,
          47.6344,
          47.6467,
          47.6583,
          47.6362,
          47.6782,
          47.6283,
          47.6332,
          47.6501,
          47.5488,
          47.639,
          47.6387,
          47.6341,
          47.6203,
          47.6779,
          47.5954,
          47.5773,
          47.6306,
          47.6915,
          47.6304,
          47.633,
          47.5809,
          47.5657,
          47.6182,
          47.5347,
          47.6074,
          47.5869,
          47.6367,
          47.5498,
          47.5897,
          47.6215,
          47.5351,
          47.5471,
          47.6799,
          47.6319,
          47.6731,
          47.6168,
          47.6561,
          47.6914,
          47.6374,
          47.5895,
          47.6701,
          47.634,
          47.5317,
          47.6455,
          47.5564,
          47.6282,
          47.65,
          47.5618,
          47.639,
          47.5862,
          47.5884,
          47.6011,
          47.6177,
          47.6316,
          47.6784,
          47.6166,
          47.5646,
          47.6411,
          47.6599,
          47.6709,
          47.6699,
          47.6344,
          47.5489,
          47.5416,
          47.6578,
          47.554,
          47.5489,
          47.5927,
          47.568,
          47.567,
          47.644,
          47.5682,
          47.5696,
          47.6345,
          47.5396,
          47.6008,
          47.6081,
          47.6393,
          47.5636,
          47.5878,
          47.6716,
          47.5769,
          47.6381,
          47.5738,
          47.5873,
          47.6428,
          47.5784,
          47.6434,
          47.6847,
          47.6321,
          47.6427,
          47.5462,
          47.6458,
          47.6458,
          47.6906,
          47.6895,
          47.6653,
          47.527,
          47.5871,
          47.6552,
          47.5601,
          47.659,
          47.667,
          47.6567,
          47.6384,
          47.6515,
          47.683,
          47.6264,
          47.6727,
          47.5709,
          47.6426,
          47.6634,
          47.6802,
          47.5631,
          47.5701,
          47.6534,
          47.6276,
          47.669,
          47.6462,
          47.6634,
          47.5528,
          47.6348,
          47.5588,
          47.6313,
          47.6349,
          47.5465,
          47.6367,
          47.6312,
          47.5789,
          47.5859,
          47.5983,
          47.6605,
          47.5835,
          47.5518,
          47.5331,
          47.581,
          47.6392,
          47.6731,
          47.6451,
          47.5333,
          47.574,
          47.5538,
          47.5355,
          47.6635,
          47.6329,
          47.6376,
          47.5516,
          47.6488,
          47.5612,
          47.5476,
          47.6531,
          47.6604,
          47.5663,
          47.6579,
          47.6433,
          47.6287,
          47.6493,
          47.6223,
          47.6477,
          47.5654,
          47.5395,
          47.5876,
          47.622,
          47.5496,
          47.5389,
          47.5836,
          47.6289,
          47.5643,
          47.5506,
          47.6413,
          47.7097,
          47.6659,
          47.6515,
          47.6819,
          47.5413,
          47.6696,
          47.6616,
          47.6495,
          47.6622,
          47.6918,
          47.6899,
          47.6259,
          47.6284,
          47.5919,
          47.5306,
          47.6288,
          47.6203,
          47.6855,
          47.5817,
          47.5513,
          47.6578,
          47.6815,
          47.5873,
          47.6426,
          47.6454,
          47.5544,
          47.6229,
          47.5604,
          47.6855,
          47.634,
          47.6415,
          47.666,
          47.6214,
          47.6866,
          47.6265,
          47.5507,
          47.5638,
          47.6739,
          47.6453,
          47.5708,
          47.5716,
          47.6966,
          47.5812,
          47.5485,
          47.66,
          47.643,
          47.6826,
          47.5295,
          47.5979,
          47.6259,
          47.5614,
          47.6299,
          47.5348,
          47.56,
          47.554,
          47.6587,
          47.5342,
          47.6315,
          47.576,
          47.6701,
          47.6265,
          47.6824,
          47.5315,
          47.6277,
          47.6363,
          47.6217,
          47.5503,
          47.5871,
          47.559,
          47.6604,
          47.5599,
          47.5531,
          47.6938,
          47.6322,
          47.5521,
          47.5521,
          47.5445,
          47.5395,
          47.6427,
          47.6395,
          47.7095,
          47.6336,
          47.6842,
          47.5348,
          47.6308,
          47.5571,
          47.6675,
          47.6253,
          47.557,
          47.554,
          47.6626,
          47.5641,
          47.5686,
          47.6746,
          47.5722,
          47.6187,
          47.6226,
          47.5581,
          47.6417,
          47.6718,
          47.6169,
          47.6339,
          47.5479,
          47.6795,
          47.5814,
          47.5519,
          47.5382,
          47.5848,
          47.6246,
          47.6477,
          47.6182,
          47.5655,
          47.6843,
          47.6208,
          47.5736,
          47.6772,
          47.666,
          47.6747,
          47.6725,
          47.625,
          47.6746,
          47.5644,
          47.5466,
          47.6406,
          47.5627,
          47.5667,
          47.6242,
          47.6857,
          47.5364,
          47.5453,
          47.6574,
          47.5605,
          47.6641,
          47.6342,
          47.6534,
          47.6734,
          47.5684,
          47.6514,
          47.5651,
          47.635,
          47.5504,
          47.6643,
          47.5464,
          47.5506,
          47.5489,
          47.6258,
          47.5287,
          47.6845,
          47.5603,
          47.5512,
          47.6142,
          47.6071,
          47.6381,
          47.6402,
          47.5905,
          47.6805,
          47.6257,
          47.5692,
          47.6667,
          47.5536,
          47.6712,
          47.5877,
          47.6317,
          47.6159,
          47.6582,
          47.6317,
          47.6393,
          47.5844,
          47.5969,
          47.6569,
          47.6508,
          47.6354,
          47.6332,
          47.5589,
          47.5878,
          47.6768,
          47.5472,
          47.5787,
          47.5623,
          47.638,
          47.685,
          47.5762,
          47.565,
          47.6012,
          47.6382,
          47.6348,
          47.5372,
          47.5758,
          47.528,
          47.6567,
          47.5824,
          47.543,
          47.6388,
          47.6557,
          47.6803,
          47.5985,
          47.5863,
          47.6833,
          47.6374,
          47.5431,
          47.6392,
          47.632,
          47.6848,
          47.6619,
          47.638,
          47.5492,
          47.6394,
          47.545,
          47.6903,
          47.6424,
          47.6039,
          47.6003,
          47.5344,
          47.5639,
          47.5645,
          47.6505,
          47.5888,
          47.561,
          47.5847,
          47.5319,
          47.6906,
          47.5503,
          47.5606,
          47.6398,
          47.5336,
          47.646,
          47.55,
          47.6908,
          47.6651,
          47.6605,
          47.6344,
          47.639,
          47.634,
          47.5697,
          47.6463,
          47.5868,
          47.64,
          47.5345,
          47.549,
          47.6311,
          47.5894,
          47.6336,
          47.6273,
          47.669,
          47.5623,
          47.6792,
          47.6204,
          47.661,
          47.5749,
          47.638,
          47.6865,
          47.5641,
          47.6232,
          47.5696,
          47.5646,
          47.593,
          47.5473,
          47.6934,
          47.6665,
          47.6529,
          47.5968,
          47.6618,
          47.5428,
          47.6828,
          47.6811,
          47.6205,
          47.6416,
          47.6263,
          47.632,
          47.5866,
          47.6645,
          47.5455,
          47.6453,
          47.5739,
          47.5635,
          47.5665,
          47.6898,
          47.6628,
          47.6423,
          47.6341,
          47.6427,
          47.5511,
          47.5461,
          47.5837,
          47.6324,
          47.6838,
          47.6385,
          47.56,
          47.6662,
          47.6756,
          47.5641,
          47.6389,
          47.6601,
          47.6573,
          47.6425,
          47.595,
          47.6201,
          47.6867,
          47.6235,
          47.5706,
          47.5497,
          47.6232,
          47.6224,
          47.6466,
          47.5885,
          47.6672,
          47.547,
          47.5825,
          47.5632,
          47.6237,
          47.5617,
          47.5522,
          47.6336,
          47.6209,
          47.5323,
          47.5692,
          47.5827,
          47.6497,
          47.6685,
          47.5878,
          47.6332,
          47.5876,
          47.6316,
          47.6451,
          47.5539,
          47.6418,
          47.6016,
          47.5849,
          47.624,
          47.6237,
          47.5708,
          47.5816,
          47.643,
          47.623,
          47.6853,
          47.5586,
          47.6675,
          47.5933,
          47.6295,
          47.5552,
          47.5951,
          47.6961,
          47.669,
          47.6349,
          47.56,
          47.6352,
          47.5862,
          47.6973,
          47.6653,
          47.5336,
          47.6315,
          47.5862,
          47.606,
          47.6232,
          47.6809,
          47.6181,
          47.5355,
          47.6397,
          47.6448,
          47.6265,
          47.6571,
          47.5861,
          47.6424,
          47.5838,
          47.5964,
          47.6839,
          47.6395,
          47.6505,
          47.559,
          47.6272,
          47.6527,
          47.6251,
          47.6368,
          47.6005,
          47.6425,
          47.5734,
          47.653,
          47.67,
          47.6154,
          47.5477,
          47.6265,
          47.6265,
          47.6534,
          47.6469,
          47.6267,
          47.5836,
          47.5873,
          47.5602,
          47.5907,
          47.5314,
          47.6439,
          47.6967,
          47.5467,
          47.5654,
          47.6275,
          47.6295,
          47.5571,
          47.627,
          47.5683,
          47.6379,
          47.6578,
          47.6356,
          47.5555,
          47.6782,
          47.5835,
          47.6352,
          47.6295,
          47.5786,
          47.6343,
          47.6824,
          47.5508,
          47.6671,
          47.6671,
          47.6354,
          47.6687,
          47.6914,
          47.5458,
          47.6434,
          47.5776,
          47.5678,
          47.6281,
          47.5528,
          47.6553,
          47.5849,
          47.6575,
          47.5493,
          47.5468,
          47.5874,
          47.6695,
          47.5575,
          47.6461,
          47.5749,
          47.6481,
          47.5888,
          47.6911,
          47.5671,
          47.6743,
          47.5612,
          47.5721,
          47.548,
          47.5699,
          47.5647,
          47.6591,
          47.5333,
          47.582,
          47.5539,
          47.6595,
          47.6285,
          47.6457,
          47.5444,
          47.6375,
          47.6389,
          47.677,
          47.5458,
          47.6409,
          47.6354,
          47.6754,
          47.6336,
          47.6753,
          47.6199,
          47.6388,
          47.6042,
          47.6264,
          47.633,
          47.6185,
          47.6245,
          47.6642,
          47.5642,
          47.5845,
          47.6221,
          47.6754,
          47.5469,
          47.5722,
          47.6826,
          47.6316,
          47.5817,
          47.5648,
          47.5479,
          47.5928,
          47.5387,
          47.5572,
          47.5472,
          47.628,
          47.6731,
          47.6055,
          47.5465,
          47.5858,
          47.651,
          47.6325,
          47.5805,
          47.5703,
          47.6272,
          47.6291,
          47.5651,
          47.6304,
          47.6569,
          47.5309,
          47.6854,
          47.6587,
          47.6915,
          47.5515,
          47.6264,
          47.5517,
          47.6135,
          47.6496,
          47.587,
          47.6816,
          47.6886,
          47.5358,
          47.567,
          47.5485,
          47.6395,
          47.6227,
          47.6227,
          47.6341,
          47.6429,
          47.553,
          47.5686,
          47.6838,
          47.6364,
          47.5591,
          47.6308,
          47.623,
          47.638,
          47.6491,
          47.6629,
          47.6819,
          47.5894,
          47.6354,
          47.5662,
          47.5887,
          47.6387,
          47.5641,
          47.5359,
          47.6956,
          47.6526,
          47.6938,
          47.5755,
          47.5382,
          47.6224,
          47.6878,
          47.6279,
          47.5417,
          47.6323,
          47.5689,
          47.6453,
          47.6515,
          47.5459,
          47.6377,
          47.6189,
          47.6395,
          47.6747,
          47.5502,
          47.6285,
          47.6209,
          47.638,
          47.6201,
          47.6285,
          47.693,
          47.6434,
          47.6646,
          47.5569,
          47.6684,
          47.6779,
          47.642,
          47.6214,
          47.6818,
          47.6297,
          47.5617,
          47.6464,
          47.6548,
          47.6797,
          47.5956,
          47.6348,
          47.5651,
          47.6227,
          47.6258,
          47.5563,
          47.5323,
          47.6611,
          47.631,
          47.6275,
          47.6771,
          47.5327,
          47.6288,
          47.6458,
          47.5604,
          47.6312,
          47.6408,
          47.5309,
          47.6326,
          47.5328,
          47.6433,
          47.5483,
          47.6402,
          47.5507,
          47.5757,
          47.6389,
          47.6487,
          47.6821,
          47.6567,
          47.6404,
          47.6903,
          47.6496,
          47.5487,
          47.6582,
          47.6163,
          47.6373,
          47.5541,
          47.5455,
          47.5477,
          47.5513,
          47.6199,
          47.6644,
          47.5648,
          47.6275,
          47.5549,
          47.616,
          47.6615,
          47.526,
          47.5891,
          47.6846,
          47.5599,
          47.5767,
          47.5846,
          47.5589,
          47.6791,
          47.6301,
          47.6708,
          47.5358,
          47.6484,
          47.6466,
          47.5491,
          47.6623,
          47.6233,
          47.6847,
          47.5675,
          47.648,
          47.6621,
          47.6263,
          47.6353,
          47.636,
          47.6624,
          47.5373,
          47.5263,
          47.6401,
          47.5456,
          47.6212,
          47.6654,
          47.5415,
          47.6263,
          47.6146,
          47.6178,
          47.6474,
          47.6608,
          47.6155,
          47.6286,
          47.5489,
          47.6342,
          47.6292,
          47.681,
          47.6626,
          47.5462,
          47.5911,
          47.5818,
          47.5458,
          47.6849,
          47.5821,
          47.5411,
          47.6165,
          47.6453,
          47.6622,
          47.5806,
          47.5604,
          47.6894,
          47.6843,
          47.6846,
          47.5339,
          47.5399,
          47.5617,
          47.5617,
          47.6351,
          47.5606,
          47.5271,
          47.6583,
          47.559,
          47.6322,
          47.5675,
          47.6744,
          47.6811,
          47.6304,
          47.5441,
          47.6636,
          47.6278,
          47.5728,
          47.5862,
          47.5874,
          47.5791,
          47.6598,
          47.6263,
          47.7078,
          47.6906,
          47.6321,
          47.6573,
          47.5423,
          47.6892,
          47.6471,
          47.626,
          47.5684,
          47.6255,
          47.6377,
          47.5422,
          47.6745,
          47.6474,
          47.6582,
          47.6651,
          47.5991,
          47.6235,
          47.6482,
          47.5441,
          47.5918,
          47.5872,
          47.6948,
          47.6762,
          47.6326,
          47.699,
          47.6364,
          47.5959,
          47.664,
          47.5756,
          47.5374,
          47.6844,
          47.6248,
          47.5951,
          47.6256,
          47.6232,
          47.5928,
          47.658,
          47.6836,
          47.6911,
          47.6548,
          47.6864,
          47.6979,
          47.5919,
          47.6479,
          47.5869,
          47.6349,
          47.6749,
          47.6679,
          47.6852,
          47.7009,
          47.5767,
          47.592,
          47.6354,
          47.6664,
          47.6936,
          47.5619,
          47.6245,
          47.6239,
          47.6882,
          47.6763,
          47.5816,
          47.5806,
          47.6364,
          47.6547,
          47.6845,
          47.6834,
          47.6356,
          47.6408,
          47.5481,
          47.5941,
          47.6409,
          47.648,
          47.5934,
          47.5923,
          47.6762,
          47.5963,
          47.6358,
          47.6387,
          47.5975,
          47.5388,
          47.5947,
          47.5802,
          47.688,
          47.6706,
          47.5785,
          47.5802,
          47.5818,
          47.5765,
          47.6819,
          47.6653,
          47.699,
          47.6624,
          47.6843,
          47.6646,
          47.5639,
          47.538,
          47.6847,
          47.6804,
          47.6757,
          47.5933,
          47.5508,
          47.6198,
          47.6799,
          47.6728,
          47.6213,
          47.5655,
          47.6853,
          47.6901,
          47.5451,
          47.6506,
          47.6789,
          47.5974,
          47.6917,
          47.6651,
          47.6975,
          47.5965,
          47.5707,
          47.676,
          47.5817,
          47.5745,
          47.5476,
          47.6213,
          47.5455,
          47.6221,
          47.6984,
          47.6828,
          47.5491,
          47.6289,
          47.5873,
          47.5955,
          47.6772,
          47.6482,
          47.5818,
          47.6744,
          47.5964,
          47.6855,
          47.6322,
          47.658,
          47.6647,
          47.5933,
          47.6735,
          47.5974,
          47.6575,
          47.62,
          47.5914,
          47.5983,
          47.5382,
          47.599,
          47.5653,
          47.6321
         ],
         "legendgroup": "",
         "lon": [
          -122.005,
          -122.233,
          -122.281,
          -122.192,
          -122.215,
          -122.391,
          -122.249,
          -122.196,
          -122.212,
          -122.162,
          -122.023,
          -122.182,
          -122.188,
          -122.21,
          -122.183,
          -122.223,
          -122.102,
          -122.102,
          -122.217,
          -122.159,
          -122.148,
          -122.218,
          -122.213,
          -122.219,
          -122.123,
          -122.137,
          -122.205,
          -122.196,
          -122.018,
          -122.285,
          -122.071,
          -122.411,
          -122.231,
          -122.216,
          -122.273,
          -122.198,
          -122.274,
          -122.22,
          -122.195,
          -122.273,
          -122.157,
          -122.286,
          -122.134,
          -122.162,
          -122.227,
          -122.396,
          -122.222,
          -122.216,
          -122.215,
          -122.204,
          -122.3,
          -122.197,
          -122.119,
          -122.395,
          -122.184,
          -122.018,
          -122.156,
          -122.195,
          -122.273,
          -122.211,
          -122.324,
          -121.997,
          -122.152,
          -122.209,
          -122.288,
          -122.21,
          -122.209,
          -122.236,
          -122.21,
          -122.31,
          -122.119,
          -122.286,
          -121.966,
          -122.41,
          -122.261,
          -122.195,
          -122.22,
          -122.229,
          -122.21,
          -122.294,
          -122.224,
          -122.41,
          -122.208,
          -122.071,
          -122.242,
          -122.311,
          -122.302,
          -122.244,
          -122.222,
          -122.212,
          -122.215,
          -122.2,
          -122.314,
          -122.225,
          -122.157,
          -122.102,
          -122.412,
          -122.057,
          -122.234,
          -122.16,
          -122.29,
          -122.045,
          -122.29,
          -122.153,
          -122.174,
          -122.26,
          -122.242,
          -122.289,
          -122.246,
          -122.284,
          -122.222,
          -122.114,
          -122.246,
          -122.206,
          -121.995,
          -122.278,
          -122.203,
          -122.226,
          -122.197,
          -122.227,
          -122.389,
          -122.155,
          -122.112,
          -122.212,
          -122.207,
          -122.304,
          -122.203,
          -122.193,
          -122.29,
          -122.06,
          -122.013,
          -122.221,
          -122.22,
          -122.167,
          -122.216,
          -122.194,
          -122.156,
          -121.979,
          -122.216,
          -122.409,
          -122.247,
          -122.207,
          -122.241,
          -122.153,
          -122.304,
          -122.158,
          -122.158,
          -122.204,
          -122.069,
          -122.211,
          -122.126,
          -122.231,
          -122.183,
          -122.213,
          -122.196,
          -122.11,
          -122.191,
          -122.209,
          -122.205,
          -122.202,
          -122.016,
          -122.267,
          -122.415,
          -122.28,
          -122.244,
          -122.124,
          -122.026,
          -122.224,
          -122.216,
          -122.311,
          -122.292,
          -122.144,
          -122.198,
          -122.308,
          -122.31,
          -122.144,
          -122.229,
          -122.19,
          -122.214,
          -122.304,
          -122.273,
          -122.282,
          -122.311,
          -122.312,
          -122.29,
          -122.217,
          -122.197,
          -122.219,
          -122.284,
          -122.208,
          -122.212,
          -122.294,
          -122.206,
          -122.226,
          -122.288,
          -122.053,
          -122.218,
          -122.283,
          -122.191,
          -122.23,
          -122.312,
          -122.227,
          -122.213,
          -121.967,
          -121.958,
          -122.214,
          -122.229,
          -122.224,
          -122.223,
          -122.133,
          -122.268,
          -122.288,
          -122.199,
          -122.216,
          -122.274,
          -122.214,
          -122.288,
          -122.229,
          -122.291,
          -122.288,
          -122.233,
          -122.409,
          -122.158,
          -122.293,
          -122.214,
          -122.037,
          -122.216,
          -122.198,
          -122.086,
          -121.983,
          -122.217,
          -122.202,
          -122.277,
          -122.22,
          -122.129,
          -122.207,
          -122.269,
          -122.262,
          -122.416,
          -122.215,
          -122.216,
          -122.231,
          -122.28,
          -122.189,
          -122.225,
          -122.064,
          -122.153,
          -122.033,
          -122.185,
          -122.059,
          -122.213,
          -122.302,
          -122.214,
          -122.044,
          -122.198,
          -122.403,
          -122.231,
          -122.202,
          -122.264,
          -122.215,
          -122.314,
          -122.215,
          -122.193,
          -122.411,
          -122.076,
          -122.3,
          -122.016,
          -122.304,
          -122.304,
          -122.112,
          -122.219,
          -122.219,
          -122.019,
          -122.052,
          -122.27,
          -122.228,
          -121.969,
          -122.278,
          -122.16,
          -122.281,
          -121.994,
          -122.004,
          -122.279,
          -122.197,
          -122.015,
          -122.226,
          -122.297,
          -122.214,
          -122.409,
          -122.2,
          -122.208,
          -122.213,
          -122.188,
          -122.195,
          -122.205,
          -122.067,
          -122.212,
          -122.172,
          -122.229,
          -122.196,
          -122.124,
          -122.303,
          -122.204,
          -122.155,
          -122.206,
          -122.291,
          -122.076,
          -121.968,
          -122.2,
          -122.27,
          -122.227,
          -122.107,
          -122.217,
          -122.246,
          -121.988,
          -122.199,
          -122.189,
          -122.217,
          -122.18,
          -122.189,
          -122.242,
          -122.017,
          -122.31,
          -122.307,
          -122.217,
          -122.201,
          -122.229,
          -122.219,
          -122.405,
          -122.289,
          -122.125,
          -122.277,
          -122.403,
          -122.287,
          -122.413,
          -122.208,
          -122.183,
          -122.158,
          -122.242,
          -122.204,
          -122.195,
          -122.12,
          -122.242,
          -122.2,
          -122.309,
          -122.16,
          -122.101,
          -122.405,
          -122.013,
          -122.327,
          -122.277,
          -122.208,
          -122.216,
          -122.416,
          -121.999,
          -122.185,
          -122.171,
          -122.216,
          -122.217,
          -122.194,
          -122.312,
          -122.251,
          -122.227,
          -122.284,
          -122.21,
          -122.19,
          -122.246,
          -122.109,
          -122.286,
          -122.2,
          -122.205,
          -121.955,
          -122.218,
          -122.147,
          -122.22,
          -122.133,
          -122.269,
          -122.204,
          -122.392,
          -122.276,
          -122.227,
          -122.205,
          -122.3,
          -122.113,
          -122.105,
          -122.172,
          -122.303,
          -122.192,
          -122.204,
          -122.315,
          -122.196,
          -122.124,
          -122.282,
          -122.412,
          -122.274,
          -122.229,
          -122.197,
          -122.291,
          -122.215,
          -122.28,
          -122.241,
          -122.144,
          -122.19,
          -122.009,
          -122.226,
          -122.311,
          -122.214,
          -122.259,
          -122.295,
          -122.199,
          -122.231,
          -122.286,
          -122.207,
          -122.309,
          -122.137,
          -122.192,
          -122.162,
          -122.28,
          -122.118,
          -122.131,
          -122.213,
          -122.216,
          -122.115,
          -122.115,
          -122.137,
          -122.21,
          -122.408,
          -122.214,
          -122.022,
          -122.397,
          -122.196,
          -122.243,
          -122.279,
          -122.193,
          -122.176,
          -122.284,
          -122.21,
          -122.151,
          -122.269,
          -122.149,
          -122.06,
          -122.327,
          -122.236,
          -122.284,
          -122.205,
          -122.156,
          -122.411,
          -122.256,
          -122.212,
          -122.396,
          -122.212,
          -121.991,
          -122.081,
          -122.106,
          -122.23,
          -121.969,
          -122.199,
          -122.216,
          -122.215,
          -122.114,
          -122.016,
          -122.219,
          -122.212,
          -122.296,
          -122.201,
          -122.191,
          -122.327,
          -122.3,
          -122.018,
          -122.153,
          -122.197,
          -122.412,
          -122.156,
          -122.155,
          -122.306,
          -122.208,
          -122.239,
          -122.234,
          -122.278,
          -122.225,
          -122.293,
          -122.289,
          -122.182,
          -122.026,
          -122.06,
          -122.413,
          -122.223,
          -122.284,
          -122.146,
          -122.202,
          -122.116,
          -122.187,
          -122.219,
          -122.305,
          -122.22,
          -122.209,
          -122.158,
          -122.11,
          -122.209,
          -122.212,
          -122.224,
          -122.395,
          -122.245,
          -122.048,
          -122.208,
          -122.192,
          -122.327,
          -122.228,
          -122.272,
          -122.196,
          -122.312,
          -122.211,
          -122.28,
          -122.304,
          -122.408,
          -122.081,
          -122.206,
          -122.286,
          -122.203,
          -122.196,
          -122.281,
          -122.117,
          -122.022,
          -122.326,
          -122.235,
          -122.245,
          -122.106,
          -122.29,
          -122.016,
          -122.239,
          -122.144,
          -122.022,
          -122.307,
          -122.301,
          -122.232,
          -122.242,
          -122.224,
          -122.281,
          -122.078,
          -122.231,
          -122.409,
          -122.278,
          -122.214,
          -122.026,
          -121.967,
          -122.271,
          -122.299,
          -122.112,
          -122.406,
          -122.279,
          -122.208,
          -122.275,
          -122.288,
          -122.119,
          -122.299,
          -122.229,
          -122.056,
          -122.407,
          -122.194,
          -122.076,
          -122.224,
          -122.216,
          -122.219,
          -122.39,
          -121.971,
          -122.153,
          -122.081,
          -122.238,
          -122.202,
          -122.118,
          -122.225,
          -122.39,
          -122.225,
          -122.39,
          -122.103,
          -122.051,
          -122.056,
          -122.069,
          -122.205,
          -122.21,
          -122.221,
          -122.182,
          -122.219,
          -121.968,
          -122.285,
          -122.216,
          -122.141,
          -122.312,
          -122.197,
          -122.29,
          -122.194,
          -122.275,
          -122.221,
          -122.273,
          -122.217,
          -122.269,
          -122.214,
          -122.225,
          -122.266,
          -122.124,
          -122.207,
          -122.183,
          -122.127,
          -122.197,
          -122.211,
          -122.271,
          -122.27,
          -122.202,
          -122.083,
          -122.273,
          -122.236,
          -122.329,
          -122.207,
          -122.214,
          -122.386,
          -122.312,
          -122.29,
          -122.201,
          -122.291,
          -122.126,
          -122.41,
          -122.069,
          -122.032,
          -122.21,
          -122.189,
          -122.326,
          -122.394,
          -122.304,
          -122.397,
          -122.114,
          -122.122,
          -122.194,
          -122.289,
          -122.327,
          -122.281,
          -122.225,
          -122.056,
          -122.275,
          -122.16,
          -122.288,
          -122.275,
          -122.034,
          -122.218,
          -122.04,
          -122.209,
          -122.275,
          -122.309,
          -122.209,
          -122.228,
          -122.21,
          -122.215,
          -122.391,
          -122.199,
          -122.409,
          -122.219,
          -122.242,
          -122.215,
          -122.228,
          -122.134,
          -122.103,
          -122.192,
          -122.216,
          -122.238,
          -122.189,
          -122.197,
          -122.217,
          -122.409,
          -121.969,
          -122.199,
          -122.193,
          -122.303,
          -122.387,
          -122.108,
          -122.392,
          -122.074,
          -122.051,
          -122.221,
          -122.21,
          -122.212,
          -122.197,
          -122.299,
          -122.218,
          -122.204,
          -122.134,
          -121.986,
          -121.982,
          -122.217,
          -122.231,
          -122.206,
          -122.316,
          -122.282,
          -122.29,
          -122.161,
          -122.29,
          -122.202,
          -122.205,
          -122.272,
          -122.223,
          -122.282,
          -122.246,
          -122.211,
          -122.299,
          -122.288,
          -122.284,
          -122.24,
          -122.395,
          -122.409,
          -122.298,
          -122.277,
          -122.113,
          -122.411,
          -122.246,
          -122.077,
          -122.274,
          -122.279,
          -122.203,
          -122.127,
          -122.312,
          -122.198,
          -122.218,
          -122.216,
          -122.199,
          -122.406,
          -122.213,
          -122.416,
          -122.274,
          -122.214,
          -122.126,
          -122.296,
          -122.296,
          -122.412,
          -122.389,
          -122.222,
          -122.042,
          -122.202,
          -122.03,
          -122.196,
          -122.222,
          -122.302,
          -122.216,
          -122.234,
          -122.163,
          -122.308,
          -122.285,
          -122.14,
          -122.304,
          -122.188,
          -122.311,
          -122.285,
          -122.402,
          -122.15,
          -122.299,
          -122.202,
          -122.284,
          -122.306,
          -122.229,
          -122.282,
          -122.287,
          -122.189,
          -122.051,
          -122.051,
          -122.208,
          -122.264,
          -122.21,
          -122.141,
          -122.412,
          -122.214,
          -122.228,
          -122.216,
          -122.221,
          -122.023,
          -122.198,
          -122.197,
          -122.117,
          -122.123,
          -121.965,
          -122.266,
          -122.211,
          -122.389,
          -122.213,
          -122.405,
          -122.04,
          -122.326,
          -122.159,
          -122.313,
          -122.146,
          -122.239,
          -122.121,
          -122.226,
          -122.155,
          -122.27,
          -122.22,
          -122.199,
          -122.103,
          -122.283,
          -122.309,
          -122.412,
          -122.131,
          -122.389,
          -122.407,
          -122.275,
          -122.227,
          -122.207,
          -122.214,
          -122.307,
          -122.192,
          -122.304,
          -122.212,
          -122.406,
          -122.21,
          -122.289,
          -121.972,
          -122.219,
          -122.227,
          -122.171,
          -122.127,
          -122.199,
          -122.208,
          -122.327,
          -122.127,
          -122.226,
          -122.186,
          -122.282,
          -122.192,
          -122.156,
          -122.233,
          -122.086,
          -122.215,
          -122.147,
          -122.233,
          -122.299,
          -122.327,
          -122.21,
          -122.122,
          -122.247,
          -122.409,
          -122.29,
          -121.97,
          -122.165,
          -122.208,
          -122.226,
          -122.034,
          -122.205,
          -122.273,
          -122.224,
          -122.048,
          -122.022,
          -122.273,
          -122.113,
          -122.283,
          -122.147,
          -122.213,
          -122.391,
          -121.966,
          -122.199,
          -122.276,
          -122.235,
          -122.151,
          -122.214,
          -122.211,
          -122.207,
          -122.207,
          -122.284,
          -122.412,
          -122.114,
          -122.154,
          -122.212,
          -122.28,
          -122.229,
          -122.287,
          -122.205,
          -122.213,
          -122.201,
          -122.269,
          -122.272,
          -122.243,
          -122.221,
          -122.108,
          -122.201,
          -122.396,
          -122.221,
          -122.213,
          -122.311,
          -122.191,
          -122.215,
          -122.218,
          -122.114,
          -122.195,
          -122.212,
          -122.287,
          -122.111,
          -122.192,
          -122.156,
          -122.302,
          -122.278,
          -122.228,
          -122.211,
          -122.286,
          -122.409,
          -122.303,
          -122.13,
          -122.303,
          -122.219,
          -122.306,
          -122.222,
          -122.304,
          -122.202,
          -122.409,
          -122.208,
          -122.225,
          -122.309,
          -122.075,
          -122.405,
          -122.227,
          -122.023,
          -122.216,
          -122.03,
          -122.405,
          -122.28,
          -122.025,
          -122.026,
          -122.403,
          -122.22,
          -122.216,
          -122.312,
          -122.219,
          -122.237,
          -122.169,
          -122.303,
          -122.305,
          -122.187,
          -122.232,
          -122.282,
          -122.218,
          -122.027,
          -122.224,
          -122.212,
          -122.228,
          -122.217,
          -122.226,
          -122.3,
          -122.158,
          -122.405,
          -122.133,
          -122.216,
          -122.409,
          -122.388,
          -122.19,
          -122.325,
          -122.408,
          -122.213,
          -122.413,
          -122.126,
          -122.28,
          -122.219,
          -122.3,
          -122.106,
          -122.214,
          -122.215,
          -122.135,
          -122.3,
          -122.293,
          -122.21,
          -122.315,
          -122.211,
          -122.218,
          -122.276,
          -122.225,
          -122.2,
          -122.284,
          -122.108,
          -122.215,
          -122.223,
          -122.116,
          -122.209,
          -122.301,
          -122.262,
          -122.213,
          -122.182,
          -122.404,
          -122.137,
          -122.196,
          -122.206,
          -122.017,
          -122.189,
          -122.397,
          -122.27,
          -122.284,
          -122.402,
          -122.301,
          -122.202,
          -122.22,
          -122.227,
          -122.299,
          -122.126,
          -122.224,
          -122.307,
          -122.133,
          -122.314,
          -122.213,
          -122.214,
          -122.389,
          -122.269,
          -122.21,
          -122.206,
          -122.118,
          -122.282,
          -122.312,
          -122.273,
          -122.271,
          -122.154,
          -122.037,
          -122.198,
          -122.231,
          -122.327,
          -122.247,
          -122.133,
          -122.216,
          -122.214,
          -122.272,
          -122.193,
          -122.107,
          -122.195,
          -122.267,
          -122.268,
          -122.223,
          -122.118,
          -122.158,
          -122.158,
          -122.285,
          -122.133,
          -122.228,
          -122.27,
          -122.118,
          -122.203,
          -122.16,
          -122.05,
          -122.288,
          -122.309,
          -122.131,
          -122.326,
          -122.292,
          -122.205,
          -121.97,
          -121.982,
          -122.23,
          -122.273,
          -122.314,
          -122.019,
          -122.213,
          -122.393,
          -122.173,
          -122.111,
          -122.048,
          -122.412,
          -122.213,
          -122.19,
          -122.208,
          -122.219,
          -122.112,
          -122.31,
          -122.411,
          -122.038,
          -122.403,
          -122.2,
          -122.192,
          -122.408,
          -122.117,
          -122.196,
          -122.055,
          -122.178,
          -122.267,
          -122.216,
          -122.206,
          -122.209,
          -122.014,
          -122.2,
          -122.071,
          -122.216,
          -122.199,
          -122.29,
          -122.2,
          -122.299,
          -122.205,
          -122.199,
          -122.006,
          -122.208,
          -122.293,
          -122.19,
          -122.215,
          -122.205,
          -121.975,
          -122.408,
          -122.054,
          -122.198,
          -122.176,
          -122.172,
          -122.21,
          -122.059,
          -122.225,
          -122.085,
          -122.198,
          -122.276,
          -122.19,
          -122.027,
          -122.21,
          -122.29,
          -122.214,
          -122.267,
          -122.021,
          -122.055,
          -122.214,
          -122.202,
          -122.207,
          -122.2,
          -122.281,
          -122.307,
          -122.103,
          -121.973,
          -122.221,
          -122.218,
          -121.974,
          -121.973,
          -122.288,
          -122.2,
          -122.207,
          -122.405,
          -121.985,
          -122.114,
          -122.039,
          -122.039,
          -122.018,
          -122.173,
          -122.225,
          -122.212,
          -122.047,
          -122.072,
          -122.172,
          -122.205,
          -122.207,
          -122.197,
          -122.305,
          -122.28,
          -122.223,
          -122.114,
          -122.2,
          -122.288,
          -122.326,
          -122.199,
          -122.192,
          -122.289,
          -122.304,
          -122.189,
          -122.2,
          -122.129,
          -122.21,
          -122.018,
          -122.114,
          -122.195,
          -122.273,
          -122.202,
          -122.02,
          -122.191,
          -122.195,
          -122.013,
          -122.217,
          -122.197,
          -122.047,
          -122.18,
          -122.116,
          -122.2,
          -122.211,
          -122.29,
          -122.206,
          -122.186,
          -122.104,
          -122.205,
          -122.196,
          -121.974,
          -122.267,
          -122.409,
          -121.996,
          -122.196,
          -122.201,
          -122.201,
          -122.209,
          -122.396,
          -122.16,
          -122.06,
          -122.058,
          -122.013,
          -122.006,
          -122.207,
          -122.027,
          -122.2,
          -122.111,
          -122.197,
          -122.223,
          -122.2
         ],
         "marker": {
          "color": [
           1,
           0,
           1,
           1,
           0,
           1,
           0,
           0,
           0,
           0,
           1,
           1,
           1,
           0,
           1,
           0,
           1,
           1,
           1,
           0,
           1,
           1,
           1,
           0,
           1,
           1,
           1,
           0,
           1,
           0,
           1,
           1,
           0,
           1,
           0,
           0,
           1,
           1,
           0,
           1,
           1,
           0,
           1,
           1,
           0,
           1,
           0,
           1,
           1,
           0,
           1,
           0,
           1,
           1,
           1,
           1,
           1,
           1,
           0,
           0,
           1,
           1,
           1,
           1,
           1,
           0,
           0,
           1,
           0,
           0,
           1,
           1,
           1,
           0,
           0,
           1,
           0,
           0,
           1,
           1,
           1,
           1,
           0,
           1,
           1,
           1,
           1,
           0,
           0,
           0,
           0,
           1,
           1,
           1,
           1,
           1,
           1,
           1,
           1,
           1,
           0,
           1,
           0,
           1,
           1,
           0,
           1,
           0,
           0,
           0,
           0,
           1,
           1,
           0,
           1,
           0,
           0,
           1,
           0,
           0,
           1,
           1,
           1,
           1,
           0,
           0,
           1,
           0,
           0,
           0,
           1,
           1,
           1,
           1,
           1,
           1,
           1,
           1,
           0,
           1,
           1,
           0,
           1,
           1,
           0,
           1,
           1,
           1,
           1,
           0,
           1,
           1,
           1,
           1,
           1,
           1,
           1,
           0,
           0,
           0,
           1,
           1,
           1,
           0,
           0,
           1,
           1,
           1,
           0,
           1,
           1,
           1,
           1,
           1,
           0,
           0,
           0,
           1,
           0,
           1,
           1,
           0,
           1,
           0,
           0,
           0,
           1,
           1,
           0,
           0,
           0,
           0,
           0,
           0,
           0,
           1,
           0,
           0,
           0,
           1,
           1,
           1,
           0,
           1,
           1,
           1,
           1,
           0,
           1,
           1,
           0,
           0,
           1,
           0,
           0,
           0,
           0,
           1,
           1,
           0,
           0,
           1,
           1,
           1,
           0,
           1,
           0,
           0,
           0,
           1,
           0,
           0,
           1,
           1,
           1,
           0,
           0,
           1,
           0,
           0,
           1,
           1,
           0,
           1,
           1,
           1,
           1,
           1,
           1,
           0,
           1,
           0,
           1,
           1,
           0,
           1,
           0,
           1,
           1,
           1,
           1,
           0,
           1,
           1,
           0,
           0,
           1,
           0,
           1,
           1,
           0,
           0,
           1,
           1,
           0,
           1,
           1,
           0,
           1,
           0,
           1,
           1,
           1,
           1,
           1,
           0,
           1,
           1,
           1,
           0,
           0,
           1,
           0,
           1,
           0,
           1,
           0,
           1,
           1,
           1,
           1,
           1,
           0,
           1,
           0,
           0,
           0,
           1,
           1,
           0,
           1,
           1,
           1,
           0,
           1,
           1,
           1,
           1,
           0,
           1,
           0,
           1,
           0,
           0,
           1,
           0,
           0,
           1,
           1,
           0,
           1,
           0,
           1,
           0,
           1,
           0,
           1,
           1,
           1,
           0,
           0,
           1,
           0,
           1,
           1,
           1,
           1,
           0,
           1,
           1,
           0,
           0,
           1,
           1,
           1,
           1,
           1,
           0,
           0,
           0,
           1,
           0,
           1,
           0,
           0,
           1,
           0,
           1,
           1,
           0,
           0,
           1,
           0,
           1,
           0,
           1,
           0,
           0,
           0,
           0,
           0,
           1,
           1,
           1,
           1,
           1,
           1,
           0,
           0,
           0,
           0,
           1,
           1,
           0,
           1,
           1,
           1,
           0,
           1,
           0,
           0,
           1,
           1,
           1,
           1,
           0,
           0,
           0,
           1,
           0,
           1,
           0,
           1,
           1,
           1,
           1,
           1,
           1,
           1,
           1,
           1,
           0,
           1,
           1,
           1,
           0,
           0,
           0,
           1,
           0,
           0,
           0,
           0,
           0,
           1,
           0,
           0,
           1,
           0,
           1,
           0,
           0,
           0,
           0,
           0,
           1,
           0,
           1,
           0,
           1,
           1,
           1,
           0,
           1,
           1,
           1,
           0,
           0,
           0,
           1,
           1,
           0,
           0,
           1,
           1,
           1,
           0,
           0,
           1,
           1,
           0,
           1,
           1,
           1,
           1,
           0,
           1,
           0,
           0,
           1,
           1,
           0,
           1,
           1,
           0,
           1,
           0,
           1,
           1,
           1,
           1,
           1,
           1,
           0,
           0,
           0,
           1,
           1,
           0,
           0,
           0,
           1,
           0,
           1,
           0,
           0,
           0,
           0,
           0,
           0,
           0,
           0,
           0,
           0,
           0,
           1,
           0,
           1,
           1,
           1,
           1,
           1,
           1,
           1,
           1,
           1,
           1,
           0,
           1,
           0,
           1,
           1,
           0,
           0,
           1,
           1,
           1,
           0,
           1,
           1,
           0,
           0,
           0,
           1,
           1,
           1,
           0,
           0,
           1,
           0,
           1,
           1,
           0,
           1,
           1,
           0,
           1,
           1,
           0,
           1,
           1,
           1,
           1,
           1,
           1,
           1,
           1,
           1,
           1,
           1,
           1,
           0,
           1,
           1,
           1,
           1,
           1,
           1,
           1,
           0,
           0,
           1,
           0,
           1,
           0,
           1,
           1,
           0,
           1,
           0,
           1,
           0,
           0,
           1,
           0,
           0,
           1,
           0,
           0,
           1,
           0,
           1,
           1,
           0,
           0,
           0,
           1,
           1,
           0,
           0,
           1,
           0,
           1,
           0,
           1,
           0,
           0,
           0,
           1,
           1,
           0,
           1,
           1,
           0,
           1,
           0,
           1,
           0,
           1,
           1,
           1,
           0,
           0,
           0,
           0,
           1,
           1,
           1,
           1,
           0,
           1,
           1,
           0,
           1,
           0,
           0,
           1,
           1,
           1,
           0,
           0,
           0,
           0,
           1,
           1,
           1,
           1,
           0,
           1,
           1,
           1,
           0,
           1,
           0,
           0,
           1,
           0,
           1,
           0,
           1,
           1,
           1,
           1,
           1,
           1,
           0,
           0,
           0,
           1,
           1,
           0,
           0,
           1,
           1,
           1,
           1,
           0,
           0,
           1,
           1,
           1,
           0,
           0,
           0,
           1,
           1,
           1,
           1,
           0,
           1,
           1,
           1,
           1,
           0,
           0,
           1,
           0,
           1,
           0,
           1,
           1,
           0,
           1,
           1,
           0,
           1,
           1,
           1,
           0,
           0,
           0,
           1,
           1,
           1,
           1,
           0,
           0,
           0,
           1,
           1,
           0,
           1,
           0,
           0,
           0,
           1,
           1,
           1,
           1,
           0,
           0,
           1,
           0,
           0,
           1,
           1,
           0,
           0,
           1,
           0,
           1,
           1,
           0,
           0,
           0,
           1,
           0,
           0,
           1,
           1,
           1,
           0,
           0,
           1,
           1,
           1,
           1,
           1,
           0,
           1,
           1,
           1,
           0,
           1,
           1,
           1,
           1,
           1,
           1,
           1,
           1,
           1,
           1,
           1,
           0,
           1,
           0,
           1,
           0,
           1,
           0,
           1,
           1,
           1,
           1,
           0,
           1,
           1,
           1,
           1,
           1,
           1,
           0,
           0,
           0,
           1,
           1,
           0,
           0,
           0,
           0,
           1,
           0,
           0,
           0,
           1,
           1,
           0,
           0,
           1,
           1,
           1,
           1,
           1,
           1,
           1,
           0,
           0,
           1,
           1,
           1,
           1,
           1,
           1,
           0,
           1,
           0,
           1,
           1,
           0,
           0,
           1,
           1,
           0,
           1,
           1,
           1,
           1,
           0,
           0,
           1,
           0,
           1,
           1,
           1,
           0,
           1,
           0,
           1,
           0,
           0,
           0,
           0,
           0,
           1,
           1,
           0,
           0,
           1,
           0,
           0,
           0,
           1,
           0,
           1,
           0,
           0,
           1,
           0,
           1,
           1,
           1,
           1,
           0,
           0,
           1,
           0,
           1,
           0,
           0,
           1,
           0,
           1,
           0,
           1,
           1,
           0,
           0,
           1,
           0,
           1,
           0,
           0,
           0,
           0,
           0,
           1,
           1,
           0,
           1,
           1,
           1,
           1,
           0,
           1,
           0,
           1,
           1,
           1,
           1,
           1,
           0,
           0,
           0,
           1,
           1,
           1,
           1,
           0,
           0,
           1,
           1,
           0,
           0,
           1,
           0,
           0,
           0,
           0,
           1,
           0,
           1,
           1,
           1,
           1,
           0,
           1,
           1,
           1,
           1,
           1,
           1,
           1,
           1,
           0,
           1,
           1,
           0,
           1,
           1,
           1,
           0,
           0,
           1,
           0,
           0,
           0,
           0,
           0,
           1,
           1,
           1,
           1,
           1,
           1,
           1,
           0,
           0,
           1,
           0,
           1,
           0,
           0,
           1,
           0,
           1,
           0,
           0,
           1,
           1,
           0,
           1,
           1,
           0,
           1,
           0,
           0,
           1,
           0,
           0,
           0,
           1,
           0,
           0,
           0,
           1,
           0,
           1,
           1,
           0,
           1,
           1,
           1,
           1,
           0,
           0,
           1,
           0,
           0,
           0,
           1,
           1,
           1,
           0,
           0,
           1,
           1,
           1,
           1,
           0,
           1,
           0,
           1,
           1,
           1,
           1,
           1,
           1,
           1,
           1,
           1,
           1,
           0,
           1,
           1,
           1,
           0,
           0,
           1,
           0,
           0,
           1,
           0,
           1,
           0,
           0,
           0,
           1,
           0,
           1,
           1,
           1,
           1,
           1,
           0,
           0,
           1,
           1,
           1,
           1,
           1,
           1,
           0,
           1,
           0,
           1,
           0,
           1,
           1,
           1,
           0,
           0,
           1,
           0,
           1,
           1,
           0,
           1,
           1,
           0,
           1,
           1,
           1,
           1,
           0,
           1,
           1,
           1,
           1,
           0,
           1,
           0,
           1,
           0,
           1,
           0,
           1,
           0,
           0,
           1,
           1,
           0,
           0,
           0,
           0,
           0,
           0,
           1,
           1,
           0,
           0,
           1,
           1,
           1,
           0,
           0,
           0,
           1,
           1,
           1,
           1,
           1,
           1,
           0,
           0,
           1,
           1,
           1,
           1,
           1,
           1,
           0,
           0,
           0,
           0,
           1,
           1,
           1,
           0,
           1,
           0,
           1,
           1,
           1,
           1,
           1,
           1,
           1,
           1,
           0,
           0,
           1,
           1,
           1,
           1,
           0,
           1,
           1,
           0,
           1,
           1,
           0,
           0,
           1,
           1,
           0,
           0,
           0,
           1,
           1,
           1,
           1,
           1,
           0,
           1,
           0,
           1,
           0,
           1,
           1,
           1,
           1,
           0,
           1,
           1,
           0,
           0,
           0,
           1
          ],
          "coloraxis": "coloraxis"
         },
         "mode": "markers",
         "name": "",
         "showlegend": false,
         "subplot": "mapbox",
         "type": "scattermapbox"
        }
       ],
       "layout": {
        "coloraxis": {
         "colorbar": {
          "title": {
           "text": "buying_recommendation"
          }
         },
         "colorscale": [
          [
           0,
           "#0d0887"
          ],
          [
           0.1111111111111111,
           "#46039f"
          ],
          [
           0.2222222222222222,
           "#7201a8"
          ],
          [
           0.3333333333333333,
           "#9c179e"
          ],
          [
           0.4444444444444444,
           "#bd3786"
          ],
          [
           0.5555555555555556,
           "#d8576b"
          ],
          [
           0.6666666666666666,
           "#ed7953"
          ],
          [
           0.7777777777777778,
           "#fb9f3a"
          ],
          [
           0.8888888888888888,
           "#fdca26"
          ],
          [
           1,
           "#f0f921"
          ]
         ]
        },
        "legend": {
         "tracegroupgap": 0
        },
        "mapbox": {
         "center": {
          "lat": 47.61527964970809,
          "lon": -122.21164220183485
         },
         "domain": {
          "x": [
           0,
           1
          ],
          "y": [
           0,
           1
          ]
         },
         "style": "open-street-map",
         "zoom": 8
        },
        "margin": {
         "t": 60
        },
        "template": {
         "data": {
          "bar": [
           {
            "error_x": {
             "color": "#2a3f5f"
            },
            "error_y": {
             "color": "#2a3f5f"
            },
            "marker": {
             "line": {
              "color": "#E5ECF6",
              "width": 0.5
             },
             "pattern": {
              "fillmode": "overlay",
              "size": 10,
              "solidity": 0.2
             }
            },
            "type": "bar"
           }
          ],
          "barpolar": [
           {
            "marker": {
             "line": {
              "color": "#E5ECF6",
              "width": 0.5
             },
             "pattern": {
              "fillmode": "overlay",
              "size": 10,
              "solidity": 0.2
             }
            },
            "type": "barpolar"
           }
          ],
          "carpet": [
           {
            "aaxis": {
             "endlinecolor": "#2a3f5f",
             "gridcolor": "white",
             "linecolor": "white",
             "minorgridcolor": "white",
             "startlinecolor": "#2a3f5f"
            },
            "baxis": {
             "endlinecolor": "#2a3f5f",
             "gridcolor": "white",
             "linecolor": "white",
             "minorgridcolor": "white",
             "startlinecolor": "#2a3f5f"
            },
            "type": "carpet"
           }
          ],
          "choropleth": [
           {
            "colorbar": {
             "outlinewidth": 0,
             "ticks": ""
            },
            "type": "choropleth"
           }
          ],
          "contour": [
           {
            "colorbar": {
             "outlinewidth": 0,
             "ticks": ""
            },
            "colorscale": [
             [
              0,
              "#0d0887"
             ],
             [
              0.1111111111111111,
              "#46039f"
             ],
             [
              0.2222222222222222,
              "#7201a8"
             ],
             [
              0.3333333333333333,
              "#9c179e"
             ],
             [
              0.4444444444444444,
              "#bd3786"
             ],
             [
              0.5555555555555556,
              "#d8576b"
             ],
             [
              0.6666666666666666,
              "#ed7953"
             ],
             [
              0.7777777777777778,
              "#fb9f3a"
             ],
             [
              0.8888888888888888,
              "#fdca26"
             ],
             [
              1,
              "#f0f921"
             ]
            ],
            "type": "contour"
           }
          ],
          "contourcarpet": [
           {
            "colorbar": {
             "outlinewidth": 0,
             "ticks": ""
            },
            "type": "contourcarpet"
           }
          ],
          "heatmap": [
           {
            "colorbar": {
             "outlinewidth": 0,
             "ticks": ""
            },
            "colorscale": [
             [
              0,
              "#0d0887"
             ],
             [
              0.1111111111111111,
              "#46039f"
             ],
             [
              0.2222222222222222,
              "#7201a8"
             ],
             [
              0.3333333333333333,
              "#9c179e"
             ],
             [
              0.4444444444444444,
              "#bd3786"
             ],
             [
              0.5555555555555556,
              "#d8576b"
             ],
             [
              0.6666666666666666,
              "#ed7953"
             ],
             [
              0.7777777777777778,
              "#fb9f3a"
             ],
             [
              0.8888888888888888,
              "#fdca26"
             ],
             [
              1,
              "#f0f921"
             ]
            ],
            "type": "heatmap"
           }
          ],
          "heatmapgl": [
           {
            "colorbar": {
             "outlinewidth": 0,
             "ticks": ""
            },
            "colorscale": [
             [
              0,
              "#0d0887"
             ],
             [
              0.1111111111111111,
              "#46039f"
             ],
             [
              0.2222222222222222,
              "#7201a8"
             ],
             [
              0.3333333333333333,
              "#9c179e"
             ],
             [
              0.4444444444444444,
              "#bd3786"
             ],
             [
              0.5555555555555556,
              "#d8576b"
             ],
             [
              0.6666666666666666,
              "#ed7953"
             ],
             [
              0.7777777777777778,
              "#fb9f3a"
             ],
             [
              0.8888888888888888,
              "#fdca26"
             ],
             [
              1,
              "#f0f921"
             ]
            ],
            "type": "heatmapgl"
           }
          ],
          "histogram": [
           {
            "marker": {
             "pattern": {
              "fillmode": "overlay",
              "size": 10,
              "solidity": 0.2
             }
            },
            "type": "histogram"
           }
          ],
          "histogram2d": [
           {
            "colorbar": {
             "outlinewidth": 0,
             "ticks": ""
            },
            "colorscale": [
             [
              0,
              "#0d0887"
             ],
             [
              0.1111111111111111,
              "#46039f"
             ],
             [
              0.2222222222222222,
              "#7201a8"
             ],
             [
              0.3333333333333333,
              "#9c179e"
             ],
             [
              0.4444444444444444,
              "#bd3786"
             ],
             [
              0.5555555555555556,
              "#d8576b"
             ],
             [
              0.6666666666666666,
              "#ed7953"
             ],
             [
              0.7777777777777778,
              "#fb9f3a"
             ],
             [
              0.8888888888888888,
              "#fdca26"
             ],
             [
              1,
              "#f0f921"
             ]
            ],
            "type": "histogram2d"
           }
          ],
          "histogram2dcontour": [
           {
            "colorbar": {
             "outlinewidth": 0,
             "ticks": ""
            },
            "colorscale": [
             [
              0,
              "#0d0887"
             ],
             [
              0.1111111111111111,
              "#46039f"
             ],
             [
              0.2222222222222222,
              "#7201a8"
             ],
             [
              0.3333333333333333,
              "#9c179e"
             ],
             [
              0.4444444444444444,
              "#bd3786"
             ],
             [
              0.5555555555555556,
              "#d8576b"
             ],
             [
              0.6666666666666666,
              "#ed7953"
             ],
             [
              0.7777777777777778,
              "#fb9f3a"
             ],
             [
              0.8888888888888888,
              "#fdca26"
             ],
             [
              1,
              "#f0f921"
             ]
            ],
            "type": "histogram2dcontour"
           }
          ],
          "mesh3d": [
           {
            "colorbar": {
             "outlinewidth": 0,
             "ticks": ""
            },
            "type": "mesh3d"
           }
          ],
          "parcoords": [
           {
            "line": {
             "colorbar": {
              "outlinewidth": 0,
              "ticks": ""
             }
            },
            "type": "parcoords"
           }
          ],
          "pie": [
           {
            "automargin": true,
            "type": "pie"
           }
          ],
          "scatter": [
           {
            "fillpattern": {
             "fillmode": "overlay",
             "size": 10,
             "solidity": 0.2
            },
            "type": "scatter"
           }
          ],
          "scatter3d": [
           {
            "line": {
             "colorbar": {
              "outlinewidth": 0,
              "ticks": ""
             }
            },
            "marker": {
             "colorbar": {
              "outlinewidth": 0,
              "ticks": ""
             }
            },
            "type": "scatter3d"
           }
          ],
          "scattercarpet": [
           {
            "marker": {
             "colorbar": {
              "outlinewidth": 0,
              "ticks": ""
             }
            },
            "type": "scattercarpet"
           }
          ],
          "scattergeo": [
           {
            "marker": {
             "colorbar": {
              "outlinewidth": 0,
              "ticks": ""
             }
            },
            "type": "scattergeo"
           }
          ],
          "scattergl": [
           {
            "marker": {
             "colorbar": {
              "outlinewidth": 0,
              "ticks": ""
             }
            },
            "type": "scattergl"
           }
          ],
          "scattermapbox": [
           {
            "marker": {
             "colorbar": {
              "outlinewidth": 0,
              "ticks": ""
             }
            },
            "type": "scattermapbox"
           }
          ],
          "scatterpolar": [
           {
            "marker": {
             "colorbar": {
              "outlinewidth": 0,
              "ticks": ""
             }
            },
            "type": "scatterpolar"
           }
          ],
          "scatterpolargl": [
           {
            "marker": {
             "colorbar": {
              "outlinewidth": 0,
              "ticks": ""
             }
            },
            "type": "scatterpolargl"
           }
          ],
          "scatterternary": [
           {
            "marker": {
             "colorbar": {
              "outlinewidth": 0,
              "ticks": ""
             }
            },
            "type": "scatterternary"
           }
          ],
          "surface": [
           {
            "colorbar": {
             "outlinewidth": 0,
             "ticks": ""
            },
            "colorscale": [
             [
              0,
              "#0d0887"
             ],
             [
              0.1111111111111111,
              "#46039f"
             ],
             [
              0.2222222222222222,
              "#7201a8"
             ],
             [
              0.3333333333333333,
              "#9c179e"
             ],
             [
              0.4444444444444444,
              "#bd3786"
             ],
             [
              0.5555555555555556,
              "#d8576b"
             ],
             [
              0.6666666666666666,
              "#ed7953"
             ],
             [
              0.7777777777777778,
              "#fb9f3a"
             ],
             [
              0.8888888888888888,
              "#fdca26"
             ],
             [
              1,
              "#f0f921"
             ]
            ],
            "type": "surface"
           }
          ],
          "table": [
           {
            "cells": {
             "fill": {
              "color": "#EBF0F8"
             },
             "line": {
              "color": "white"
             }
            },
            "header": {
             "fill": {
              "color": "#C8D4E3"
             },
             "line": {
              "color": "white"
             }
            },
            "type": "table"
           }
          ]
         },
         "layout": {
          "annotationdefaults": {
           "arrowcolor": "#2a3f5f",
           "arrowhead": 0,
           "arrowwidth": 1
          },
          "autotypenumbers": "strict",
          "coloraxis": {
           "colorbar": {
            "outlinewidth": 0,
            "ticks": ""
           }
          },
          "colorscale": {
           "diverging": [
            [
             0,
             "#8e0152"
            ],
            [
             0.1,
             "#c51b7d"
            ],
            [
             0.2,
             "#de77ae"
            ],
            [
             0.3,
             "#f1b6da"
            ],
            [
             0.4,
             "#fde0ef"
            ],
            [
             0.5,
             "#f7f7f7"
            ],
            [
             0.6,
             "#e6f5d0"
            ],
            [
             0.7,
             "#b8e186"
            ],
            [
             0.8,
             "#7fbc41"
            ],
            [
             0.9,
             "#4d9221"
            ],
            [
             1,
             "#276419"
            ]
           ],
           "sequential": [
            [
             0,
             "#0d0887"
            ],
            [
             0.1111111111111111,
             "#46039f"
            ],
            [
             0.2222222222222222,
             "#7201a8"
            ],
            [
             0.3333333333333333,
             "#9c179e"
            ],
            [
             0.4444444444444444,
             "#bd3786"
            ],
            [
             0.5555555555555556,
             "#d8576b"
            ],
            [
             0.6666666666666666,
             "#ed7953"
            ],
            [
             0.7777777777777778,
             "#fb9f3a"
            ],
            [
             0.8888888888888888,
             "#fdca26"
            ],
            [
             1,
             "#f0f921"
            ]
           ],
           "sequentialminus": [
            [
             0,
             "#0d0887"
            ],
            [
             0.1111111111111111,
             "#46039f"
            ],
            [
             0.2222222222222222,
             "#7201a8"
            ],
            [
             0.3333333333333333,
             "#9c179e"
            ],
            [
             0.4444444444444444,
             "#bd3786"
            ],
            [
             0.5555555555555556,
             "#d8576b"
            ],
            [
             0.6666666666666666,
             "#ed7953"
            ],
            [
             0.7777777777777778,
             "#fb9f3a"
            ],
            [
             0.8888888888888888,
             "#fdca26"
            ],
            [
             1,
             "#f0f921"
            ]
           ]
          },
          "colorway": [
           "#636efa",
           "#EF553B",
           "#00cc96",
           "#ab63fa",
           "#FFA15A",
           "#19d3f3",
           "#FF6692",
           "#B6E880",
           "#FF97FF",
           "#FECB52"
          ],
          "font": {
           "color": "#2a3f5f"
          },
          "geo": {
           "bgcolor": "white",
           "lakecolor": "white",
           "landcolor": "#E5ECF6",
           "showlakes": true,
           "showland": true,
           "subunitcolor": "white"
          },
          "hoverlabel": {
           "align": "left"
          },
          "hovermode": "closest",
          "mapbox": {
           "style": "light"
          },
          "paper_bgcolor": "white",
          "plot_bgcolor": "#E5ECF6",
          "polar": {
           "angularaxis": {
            "gridcolor": "white",
            "linecolor": "white",
            "ticks": ""
           },
           "bgcolor": "#E5ECF6",
           "radialaxis": {
            "gridcolor": "white",
            "linecolor": "white",
            "ticks": ""
           }
          },
          "scene": {
           "xaxis": {
            "backgroundcolor": "#E5ECF6",
            "gridcolor": "white",
            "gridwidth": 2,
            "linecolor": "white",
            "showbackground": true,
            "ticks": "",
            "zerolinecolor": "white"
           },
           "yaxis": {
            "backgroundcolor": "#E5ECF6",
            "gridcolor": "white",
            "gridwidth": 2,
            "linecolor": "white",
            "showbackground": true,
            "ticks": "",
            "zerolinecolor": "white"
           },
           "zaxis": {
            "backgroundcolor": "#E5ECF6",
            "gridcolor": "white",
            "gridwidth": 2,
            "linecolor": "white",
            "showbackground": true,
            "ticks": "",
            "zerolinecolor": "white"
           }
          },
          "shapedefaults": {
           "line": {
            "color": "#2a3f5f"
           }
          },
          "ternary": {
           "aaxis": {
            "gridcolor": "white",
            "linecolor": "white",
            "ticks": ""
           },
           "baxis": {
            "gridcolor": "white",
            "linecolor": "white",
            "ticks": ""
           },
           "bgcolor": "#E5ECF6",
           "caxis": {
            "gridcolor": "white",
            "linecolor": "white",
            "ticks": ""
           }
          },
          "title": {
           "x": 0.05
          },
          "xaxis": {
           "automargin": true,
           "gridcolor": "white",
           "linecolor": "white",
           "ticks": "",
           "title": {
            "standoff": 15
           },
           "zerolinecolor": "white",
           "zerolinewidth": 2
          },
          "yaxis": {
           "automargin": true,
           "gridcolor": "white",
           "linecolor": "white",
           "ticks": "",
           "title": {
            "standoff": 15
           },
           "zerolinecolor": "white",
           "zerolinewidth": 2
          }
         }
        }
       }
      }
     },
     "metadata": {},
     "output_type": "display_data"
    }
   ],
   "source": [
    "fig = px.scatter_mapbox(df_top_10_top, lat='lat', lon='long', zoom=8, \n",
    "    custom_data=[\"zipcode\",\"sold_for_price\"], \n",
    "    hover_name=\"zipcode\",\n",
    "    hover_data={\"sold_for_price\": \":,.0f\"},\n",
    "    color=\"buying_recommendation\",\n",
    "    color_discrete_map={0: 'grey', 1: 'green'},\n",
    "    color_discrete_sequence=['grey', 'green'],\n",
    "    )\n",
    "fig.update_layout(mapbox_style=\"open-street-map\")"
   ]
  },
  {
   "cell_type": "code",
   "execution_count": null,
   "metadata": {},
   "outputs": [],
   "source": [
    "df_top_ten_buyingr = df_top_10_top.query(\"buying_recommendation == 1\")\n",
    "\n",
    "df_top_ten_buyingr['vertical_distance'] = df_top_ten_buyingr.apply(lambda row: abs(row['sold_for_price'] - (5468344.55 * row['grading_coefficient'] - 999714.37)), axis=1)\n",
    "objects_aimed_for = df_top_ten_buyingr[[\"id\",\"sqft_living\",\"sqft_lot\",\"condition\",\"grade\",\"grading_coefficient\",\"sold_for_price\",\"predicted_price\",\"buying_recommendation\",\"vertical_distance\"]].sort_values(\"vertical_distance\",ascending=False).head(20)\n",
    "objects_aimed_for"
   ]
  },
  {
   "cell_type": "code",
   "execution_count": null,
   "metadata": {},
   "outputs": [],
   "source": [
    "df_top_ten_sellingr = df_top_10_top.query(\"buying_recommendation == 0\")\n",
    "df_top_ten_sellingr['vertical_distance'] = df_top_ten_sellingr.apply(lambda row: abs(row['sold_for_price'] - (5468344.55 * row['grading_coefficient'] - 999714.37)), axis=1)\n",
    "objects_aimed_for_selling = df_top_ten_sellingr[[\"id\",\"sqft_living\",\"sqft_lot\",\"waterfront\",\"condition\",\"grade\",\"grading_coefficient\",\"sold_for_price\",\"predicted_price\",\"buying_recommendation\",\"vertical_distance\"]].sort_values(\"vertical_distance\",ascending=False).head(20)\n",
    "objects_aimed_for_selling.head(20)\n"
   ]
  },
  {
   "cell_type": "markdown",
   "metadata": {},
   "source": [
    "### Analyse timing for selling\n",
    "Again, the top 10 percent of the houses (after price) are considered in this evaluation.\n",
    "\n",
    "Hypothesis: \n",
    "1. There is a time in the year where more houses are sold and higher prices can be achieved\n",
    "2. There is a day in the week, where the most houses are sold and higher prices can be achieved\n",
    "3. Waterfront houses will be over-priced in spring and summer and lower priced in autumn and winter\n"
   ]
  },
  {
   "cell_type": "code",
   "execution_count": null,
   "metadata": {},
   "outputs": [],
   "source": [
    "df_top_10_clean = df_top_10[[\"id\",\"sqft_living\",\"sqft_lot\",\"waterfront\",\"condition\",\"grade\",\"zipcode\",\"lat\",\"long\",\"sold_for_price\",\"date_sold_year\",\"date_sold_month\",\"date_sold_day\"]]\n",
    "\n",
    "# Erstelle eine Mapping-Funktion, die die Monatsnummern in Monatsnamen umwandelt\n",
    "month_number_to_name = {1: 'January', 2: 'February', 3: 'March', 4: 'April', 5: 'May', 6: 'June', 7: 'July', 8: 'August', 9: 'September', 10: 'October', 11: 'November', 12: 'December'}\n",
    "\n",
    "# Wende die Mapping-Funktion auf die 'date_sold_month'-Spalte an und erstelle eine neue Spalte 'month_name'\n",
    "df_top_10_clean['date_sold_month_name'] = df_top_10_clean['date_sold_month'].map(month_number_to_name)\n",
    "#Additional information needed to see, if a flat was overpriced:\n",
    "\n",
    "df_top_10_clean[\"grading_coefficient\"] = (df_top_10_clean[\"condition\"]/5)*0.1 + (df_top_10_clean[\"grade\"]/13)*0.4 + (df_top_10_clean[\"sqft_living\"]/13540)*0.35 + (df_top_10_clean[\"sqft_lot\"]/453895)*0.15\n",
    "df_top_10_clean\n"
   ]
  },
  {
   "cell_type": "code",
   "execution_count": null,
   "metadata": {},
   "outputs": [],
   "source": [
    "fig, ax = plt.subplots(2,3, figsize=(20,10)) # create subplots on 2 rows and 3 columns\n",
    "plt.suptitle('Distribution of Sales Data for the top 10 percentile (according to prices)', fontsize=20)\n",
    "fig.tight_layout() # tight_layout automatically adjusts subplot params so that the subplot(s) fits in to the figure area\n",
    "plt.subplots_adjust(hspace = .5, wspace = .2, top = .9) # adjusts the space between the single subplots\n",
    "\n",
    "ax[0][0].hist(x=df_top_10_clean.sort_values(\"date_sold_month\", ascending=True)['date_sold_month_name'])  # creates histogram for number of sales\n",
    "ax[0][0].set_ylabel(\"Houses sold\", fontsize = 10) # sets the label y-axis\n",
    "plt.setp(ax[0][0].get_xticklabels(), rotation=\"vertical\")\n",
    "ax[0][0].set_title(\"Houses sold each month\", fontsize = 15);  # sets title for subplot\n",
    "\n",
    "ax[0][1].hist(x= df_top_10_clean['sold_for_price'], bins=200)\n",
    "ax[0][1].set_ylabel(\"Count\", fontsize = 10)\n",
    "#ax[0][1].set_xlim(0,7)\n",
    "ax[0][1].set_title(\"Price of houses sold\", fontsize = 15);\n",
    "\n",
    "ax[0][2].hist(x=df_top_10_clean['zipcode'])\n",
    "ax[0][2].set_ylabel(\"Count\", fontsize = 10)\n",
    "#ax[0][2].set_xlim(0,6000)\n",
    "ax[0][2].set_title(\"Houses sold per zipcode\", fontsize = 15);\n",
    "\n",
    "ax[1][0].hist(x=df_top_10_clean['grading_coefficient'], bins=50)\n",
    "ax[1][0].set_ylabel(\"Count\", fontsize = 10)\n",
    "#ax[1][0].set_xlim(0,13)\n",
    "ax[1][0].set_title(\"Houses sold per grading coefficient\", fontsize = 15);\n",
    "                              \n",
    "ax[1][1].hist(x=df_top_10_clean['date_sold_day'])\n",
    "ax[1][1].set_ylabel(\"Count\", fontsize = 10)\n",
    "#ax[1][1].set_xlim(1900,2016)\n",
    "ax[1][1].set_title(\"Houses sold each day of the week\", fontsize = 15);\n",
    "\n",
    "ax[1][2].hist(x=df_top_10_clean['sqft_lot'])\n",
    "ax[1][2].set_ylabel(\"Count\", fontsize = 10)\n",
    "#ax[1][2].set_xlim(0,5)\n",
    "ax[1][2].set_title(\"Sqft of lot per house\", fontsize = 15);"
   ]
  },
  {
   "cell_type": "code",
   "execution_count": null,
   "metadata": {},
   "outputs": [],
   "source": [
    "df_top_10_clean.date_sold_month_name.value_counts()"
   ]
  },
  {
   "cell_type": "code",
   "execution_count": 393,
   "metadata": {},
   "outputs": [
    {
     "data": {
      "image/png": "[encoded data removed]",
      "text/plain": [
       "<Figure size 1000x600 with 2 Axes>"
      ]
     },
     "metadata": {},
     "output_type": "display_data"
    }
   ],
   "source": [
    "# Daten für die countplot\n",
    "count_data = df_top_10_clean.groupby(\"date_sold_month\").size().reset_index(name='Count')\n",
    "\n",
    "# Daten für den lineplot\n",
    "average_prices = df_top_10_clean.groupby(\"date_sold_month\").sold_for_price.mean().reset_index(name='Average Price')\n",
    "\n",
    "# Erstelle das Hauptdiagramm (Count)\n",
    "fig, ax1 = plt.subplots(figsize=(10, 6))\n",
    "\n",
    "color = 'tab:grey'\n",
    "ax1.set_xlabel('Month')\n",
    "ax1.set_ylabel('Count', color=color)\n",
    "ax1.bar(count_data[\"date_sold_month\"], count_data[\"Count\"], color=color)\n",
    "ax1.tick_params(axis='y', labelcolor=color)\n",
    "\n",
    "# Erstelle die zweite y-Achse und den Lineplot\n",
    "ax2 = ax1.twinx()\n",
    "color = 'tab:red'\n",
    "ax2.set_ylabel('Average Price (in million USD)', color=color)\n",
    "sns.lineplot(x=\"date_sold_month\", y=\"Average Price\", data=average_prices, marker='o', color=color)\n",
    "ax2.tick_params(axis='y', labelcolor=color)\n",
    "ax2.set_ylim(0, 2000000)\n",
    "\n",
    "# Anzeigen\n",
    "plt.xticks(rotation=\"vertical\")\n",
    "plt.title(\"Count and Average Selling Price Over Months\")\n",
    "plt.show()"
   ]
  },
  {
   "cell_type": "markdown",
   "metadata": {},
   "source": [
    "We can see that the amount of houses sold peaks in spring months, namely from April to June.\n",
    "Therefore, selling the house in these months will be the most beneficial.\n",
    "Especially in May, the selling prices tend to be interesting, as there are higher average prices than in the other months we have shown."
   ]
  },
  {
   "cell_type": "markdown",
   "metadata": {},
   "source": [
    "#### Waterfront houses get sold mostly in spring\n",
    "Check this hypothesis"
   ]
  },
  {
   "cell_type": "code",
   "execution_count": null,
   "metadata": {},
   "outputs": [],
   "source": [
    "df_top_10_wf = df_top_10_clean.query(\"waterfront == 1\")\n",
    "df_top_10_wf.groupby(\"date_sold_month\").sold_for_price.count().plot(kind=\"bar\",color=\"grey\")\n",
    "plt.title(\"Waterfront house sales count by month\")\n",
    "plt.xlabel(\"Month\")\n",
    "plt.ylabel(\"Count\")"
   ]
  },
  {
   "cell_type": "markdown",
   "metadata": {},
   "source": [
    "## Analysis about outskirt houses\n",
    "Through latitude and longitude determine which houses might be outskirt.\n",
    "Moreover, check via zip codes, where the outskirt houses most often are located"
   ]
  },
  {
   "cell_type": "markdown",
   "metadata": {},
   "source": [
    "### Hypothesis\n",
    "1. The latitude that determines outskirts is below -122.000\n",
    "2. The houses that are not conspicious are not in Seatlle nor in Bellevue either. --> Therefore we can determine the post-codes of these"
   ]
  },
  {
   "cell_type": "markdown",
   "metadata": {},
   "source": [
    "### Find out which houses are in the outskirts.\n",
    "Important: The quality of living should still be high, therefore houses with a large lot area in comparison to the living area are preferred."
   ]
  },
  {
   "cell_type": "code",
   "execution_count": null,
   "metadata": {},
   "outputs": [],
   "source": [
    "df_outskirts = df.query(\"long > -122 and sqft_lot/sqft_living >= 3\")\n",
    "df_outskirts"
   ]
  },
  {
   "cell_type": "code",
   "execution_count": null,
   "metadata": {},
   "outputs": [],
   "source": [
    "fig = px.scatter_mapbox(df_outskirts, lat='lat', lon='long', zoom=7.5,hover_name=\"zipcode\")\n",
    "fig.update_layout(mapbox_style=\"open-street-map\")"
   ]
  },
  {
   "cell_type": "code",
   "execution_count": null,
   "metadata": {},
   "outputs": [],
   "source": [
    "df_outskirts.groupby(\"zipcode\").zipcode.count().sort_values(ascending=True)\n"
   ]
  },
  {
   "cell_type": "markdown",
   "metadata": {},
   "source": [
    "Berechne, wie viele Häuser im Umkreis eines ausgewählten Hauses sind:\n",
    "\n",
    "Ein Breitengrad auf der Höhe von Seatte (47°) = 75km (75000m)\n",
    "\n",
    "--> 750/75000 = 0.01\n",
    "\n",
    "Ein Längengrad hat immer 111km, daher \n",
    "\n",
    "--> 750/111000 = 0.0067"
   ]
  },
  {
   "cell_type": "code",
   "execution_count": null,
   "metadata": {},
   "outputs": [],
   "source": [
    "df_1 = df.copy()\n",
    "\n",
    "# Funktion, um die Anzahl der Häuser im Bereich zu zählen\n",
    "def count_nearby_houses(lat, long, data, range_lat, range_long):\n",
    "    return ((data['lat'] >= lat - range_lat) & (data['lat'] <= lat + range_lat) &\n",
    "            (data['long'] >= long - range_long) & (data['long'] <= long + range_long)).sum()\n",
    "\n",
    "# Fügen Sie eine neue Spalte mit der Anzahl der Häuser im Bereich hinzu\n",
    "df_1['nearby_houses_count'] = df_1.apply(lambda row: count_nearby_houses(row['lat'], row['long'], df_1, range_lat=0.01, range_long=0.0067), axis=1)\n",
    "\n",
    "# Anzeigen des DataFrames mit der neuen Spalte\n",
    "print(df_1[['lat', 'long', 'nearby_houses_count']])"
   ]
  },
  {
   "cell_type": "markdown",
   "metadata": {},
   "source": [
    "Aus Google geht hervor, dass in Seattle (beim 47. Breitengrad) ein Grad circa 75 Kilometer sind.\n",
    "Daher schauen wir um sehen, wie abgeschieden ein Ort ist, wie viele Häuser sich innerhalb eines Quadrats mit der Länge 1500m befinden."
   ]
  },
  {
   "cell_type": "code",
   "execution_count": null,
   "metadata": {},
   "outputs": [],
   "source": [
    "df_1.groupby(\"nearby_houses_count\").nearby_houses_count.count().sort_values(ascending=True)\n",
    "df_1.nearby_houses_count.describe()"
   ]
  },
  {
   "cell_type": "code",
   "execution_count": 337,
   "metadata": {},
   "outputs": [
    {
     "data": {
      "application/vnd.plotly.v1+json": {
       "config": {
        "plotlyServerURL": "https://plot.ly"
       },
       "data": [
        {
         "hovertemplate": "<b>%{hovertext}</b><br><br>lat=%{lat}<br>long=%{lon}<extra></extra>",
         "hovertext": [
          98074,
          98024,
          98059,
          98024,
          98010,
          98027,
          98053,
          98077,
          98053,
          98053,
          98053,
          98027,
          98058,
          98014,
          98053,
          98077,
          98038,
          98074,
          98058,
          98027,
          98077,
          98053,
          98024,
          98053,
          98053,
          98053,
          98092,
          98014,
          98053,
          98010,
          98038,
          98074,
          98038,
          98042,
          98065,
          98024,
          98027,
          98024,
          98053,
          98019,
          98058,
          98053,
          98038,
          98053,
          98042,
          98014,
          98027,
          98077,
          98014,
          98077,
          98010,
          98010,
          98053,
          98027,
          98053,
          98014,
          98038,
          98053,
          98074,
          98027,
          98053,
          98077,
          98038,
          98045,
          98010,
          98010,
          98058,
          98022,
          98077,
          98027,
          98058,
          98077,
          98053,
          98053,
          98072,
          98077,
          98014,
          98024,
          98058,
          98077,
          98027,
          98053,
          98038,
          98022,
          98042,
          98045,
          98072,
          98027,
          98053,
          98010,
          98045,
          98045,
          98019,
          98014,
          98027,
          98042,
          98042,
          98029,
          98045,
          98027,
          98024,
          98027,
          98074
         ],
         "lat": [
          47.6053,
          47.5954,
          47.4711,
          47.6033,
          47.323,
          47.4856,
          47.634,
          47.7237,
          47.6624,
          47.6377,
          47.6471,
          47.4449,
          47.4302,
          47.693,
          47.6417,
          47.7749,
          47.4097,
          47.6102,
          47.414,
          47.5464,
          47.7196,
          47.6436,
          47.5986,
          47.6442,
          47.667,
          47.6569,
          47.308,
          47.615,
          47.6635,
          47.3585,
          47.4379,
          47.611,
          47.4375,
          47.3228,
          47.5371,
          47.5669,
          47.5078,
          47.5385,
          47.6101,
          47.7064,
          47.4358,
          47.6795,
          47.4299,
          47.6778,
          47.327,
          47.6113,
          47.5269,
          47.7557,
          47.676,
          47.7646,
          47.3109,
          47.3602,
          47.6903,
          47.478,
          47.6605,
          47.6085,
          47.4433,
          47.6573,
          47.6092,
          47.4846,
          47.6675,
          47.7711,
          47.38,
          47.4418,
          47.3602,
          47.3602,
          47.4289,
          47.1795,
          47.7125,
          47.4784,
          47.4238,
          47.7128,
          47.6587,
          47.6779,
          47.7239,
          47.7711,
          47.6223,
          47.5607,
          47.4243,
          47.7614,
          47.4812,
          47.683,
          47.4087,
          47.2332,
          47.3154,
          47.4883,
          47.7253,
          47.5406,
          47.7009,
          47.3216,
          47.4695,
          47.4807,
          47.7072,
          47.664,
          47.5016,
          47.3229,
          47.3166,
          47.559,
          47.4624,
          47.5052,
          47.5885,
          47.5371,
          47.6258
         ],
         "legendgroup": "",
         "lon": [
          -122.077,
          -121.95,
          -122.084,
          -121.943,
          -122.044,
          -122.069,
          -121.997,
          -122.042,
          -122.071,
          -121.995,
          -122.013,
          -121.979,
          -122.095,
          -121.868,
          -121.992,
          -122.048,
          -122.063,
          -121.993,
          -122.087,
          -122.088,
          -122.048,
          -121.997,
          -121.949,
          -121.999,
          -121.994,
          -122.02,
          -122.087,
          -121.954,
          -122.017,
          -121.988,
          -122.022,
          -121.992,
          -122.008,
          -122.08,
          -121.756,
          -121.956,
          -122.018,
          -121.896,
          -121.955,
          -121.981,
          -122.085,
          -121.991,
          -121.998,
          -121.994,
          -122.094,
          -121.952,
          -121.922,
          -122.036,
          -121.882,
          -122.065,
          -122.045,
          -121.986,
          -122.056,
          -122.038,
          -122.069,
          -121.952,
          -122.016,
          -122.034,
          -122.073,
          -122.067,
          -121.986,
          -122.041,
          -122.011,
          -121.731,
          -121.988,
          -121.988,
          -122.094,
          -122.036,
          -122.081,
          -122.048,
          -122.098,
          -122.083,
          -122.022,
          -122.075,
          -122.092,
          -122.048,
          -121.869,
          -121.961,
          -122.097,
          -122.015,
          -122.033,
          -122.063,
          -122.062,
          -122.029,
          -122.079,
          -121.725,
          -122.092,
          -121.982,
          -122.059,
          -121.94,
          -121.775,
          -121.795,
          -121.983,
          -121.878,
          -121.905,
          -122.045,
          -122.046,
          -122.045,
          -121.779,
          -121.906,
          -121.939,
          -121.982,
          -122.005
         ],
         "marker": {
          "color": "#636efa"
         },
         "mode": "markers",
         "name": "",
         "showlegend": false,
         "subplot": "mapbox",
         "type": "scattermapbox"
        }
       ],
       "layout": {
        "legend": {
         "tracegroupgap": 0
        },
        "mapbox": {
         "center": {
          "lat": 47.54803398058252,
          "lon": -122.00078640776701
         },
         "domain": {
          "x": [
           0,
           1
          ],
          "y": [
           0,
           1
          ]
         },
         "style": "open-street-map",
         "zoom": 7.5
        },
        "margin": {
         "t": 60
        },
        "template": {
         "data": {
          "bar": [
           {
            "error_x": {
             "color": "#2a3f5f"
            },
            "error_y": {
             "color": "#2a3f5f"
            },
            "marker": {
             "line": {
              "color": "#E5ECF6",
              "width": 0.5
             },
             "pattern": {
              "fillmode": "overlay",
              "size": 10,
              "solidity": 0.2
             }
            },
            "type": "bar"
           }
          ],
          "barpolar": [
           {
            "marker": {
             "line": {
              "color": "#E5ECF6",
              "width": 0.5
             },
             "pattern": {
              "fillmode": "overlay",
              "size": 10,
              "solidity": 0.2
             }
            },
            "type": "barpolar"
           }
          ],
          "carpet": [
           {
            "aaxis": {
             "endlinecolor": "#2a3f5f",
             "gridcolor": "white",
             "linecolor": "white",
             "minorgridcolor": "white",
             "startlinecolor": "#2a3f5f"
            },
            "baxis": {
             "endlinecolor": "#2a3f5f",
             "gridcolor": "white",
             "linecolor": "white",
             "minorgridcolor": "white",
             "startlinecolor": "#2a3f5f"
            },
            "type": "carpet"
           }
          ],
          "choropleth": [
           {
            "colorbar": {
             "outlinewidth": 0,
             "ticks": ""
            },
            "type": "choropleth"
           }
          ],
          "contour": [
           {
            "colorbar": {
             "outlinewidth": 0,
             "ticks": ""
            },
            "colorscale": [
             [
              0,
              "#0d0887"
             ],
             [
              0.1111111111111111,
              "#46039f"
             ],
             [
              0.2222222222222222,
              "#7201a8"
             ],
             [
              0.3333333333333333,
              "#9c179e"
             ],
             [
              0.4444444444444444,
              "#bd3786"
             ],
             [
              0.5555555555555556,
              "#d8576b"
             ],
             [
              0.6666666666666666,
              "#ed7953"
             ],
             [
              0.7777777777777778,
              "#fb9f3a"
             ],
             [
              0.8888888888888888,
              "#fdca26"
             ],
             [
              1,
              "#f0f921"
             ]
            ],
            "type": "contour"
           }
          ],
          "contourcarpet": [
           {
            "colorbar": {
             "outlinewidth": 0,
             "ticks": ""
            },
            "type": "contourcarpet"
           }
          ],
          "heatmap": [
           {
            "colorbar": {
             "outlinewidth": 0,
             "ticks": ""
            },
            "colorscale": [
             [
              0,
              "#0d0887"
             ],
             [
              0.1111111111111111,
              "#46039f"
             ],
             [
              0.2222222222222222,
              "#7201a8"
             ],
             [
              0.3333333333333333,
              "#9c179e"
             ],
             [
              0.4444444444444444,
              "#bd3786"
             ],
             [
              0.5555555555555556,
              "#d8576b"
             ],
             [
              0.6666666666666666,
              "#ed7953"
             ],
             [
              0.7777777777777778,
              "#fb9f3a"
             ],
             [
              0.8888888888888888,
              "#fdca26"
             ],
             [
              1,
              "#f0f921"
             ]
            ],
            "type": "heatmap"
           }
          ],
          "heatmapgl": [
           {
            "colorbar": {
             "outlinewidth": 0,
             "ticks": ""
            },
            "colorscale": [
             [
              0,
              "#0d0887"
             ],
             [
              0.1111111111111111,
              "#46039f"
             ],
             [
              0.2222222222222222,
              "#7201a8"
             ],
             [
              0.3333333333333333,
              "#9c179e"
             ],
             [
              0.4444444444444444,
              "#bd3786"
             ],
             [
              0.5555555555555556,
              "#d8576b"
             ],
             [
              0.6666666666666666,
              "#ed7953"
             ],
             [
              0.7777777777777778,
              "#fb9f3a"
             ],
             [
              0.8888888888888888,
              "#fdca26"
             ],
             [
              1,
              "#f0f921"
             ]
            ],
            "type": "heatmapgl"
           }
          ],
          "histogram": [
           {
            "marker": {
             "pattern": {
              "fillmode": "overlay",
              "size": 10,
              "solidity": 0.2
             }
            },
            "type": "histogram"
           }
          ],
          "histogram2d": [
           {
            "colorbar": {
             "outlinewidth": 0,
             "ticks": ""
            },
            "colorscale": [
             [
              0,
              "#0d0887"
             ],
             [
              0.1111111111111111,
              "#46039f"
             ],
             [
              0.2222222222222222,
              "#7201a8"
             ],
             [
              0.3333333333333333,
              "#9c179e"
             ],
             [
              0.4444444444444444,
              "#bd3786"
             ],
             [
              0.5555555555555556,
              "#d8576b"
             ],
             [
              0.6666666666666666,
              "#ed7953"
             ],
             [
              0.7777777777777778,
              "#fb9f3a"
             ],
             [
              0.8888888888888888,
              "#fdca26"
             ],
             [
              1,
              "#f0f921"
             ]
            ],
            "type": "histogram2d"
           }
          ],
          "histogram2dcontour": [
           {
            "colorbar": {
             "outlinewidth": 0,
             "ticks": ""
            },
            "colorscale": [
             [
              0,
              "#0d0887"
             ],
             [
              0.1111111111111111,
              "#46039f"
             ],
             [
              0.2222222222222222,
              "#7201a8"
             ],
             [
              0.3333333333333333,
              "#9c179e"
             ],
             [
              0.4444444444444444,
              "#bd3786"
             ],
             [
              0.5555555555555556,
              "#d8576b"
             ],
             [
              0.6666666666666666,
              "#ed7953"
             ],
             [
              0.7777777777777778,
              "#fb9f3a"
             ],
             [
              0.8888888888888888,
              "#fdca26"
             ],
             [
              1,
              "#f0f921"
             ]
            ],
            "type": "histogram2dcontour"
           }
          ],
          "mesh3d": [
           {
            "colorbar": {
             "outlinewidth": 0,
             "ticks": ""
            },
            "type": "mesh3d"
           }
          ],
          "parcoords": [
           {
            "line": {
             "colorbar": {
              "outlinewidth": 0,
              "ticks": ""
             }
            },
            "type": "parcoords"
           }
          ],
          "pie": [
           {
            "automargin": true,
            "type": "pie"
           }
          ],
          "scatter": [
           {
            "fillpattern": {
             "fillmode": "overlay",
             "size": 10,
             "solidity": 0.2
            },
            "type": "scatter"
           }
          ],
          "scatter3d": [
           {
            "line": {
             "colorbar": {
              "outlinewidth": 0,
              "ticks": ""
             }
            },
            "marker": {
             "colorbar": {
              "outlinewidth": 0,
              "ticks": ""
             }
            },
            "type": "scatter3d"
           }
          ],
          "scattercarpet": [
           {
            "marker": {
             "colorbar": {
              "outlinewidth": 0,
              "ticks": ""
             }
            },
            "type": "scattercarpet"
           }
          ],
          "scattergeo": [
           {
            "marker": {
             "colorbar": {
              "outlinewidth": 0,
              "ticks": ""
             }
            },
            "type": "scattergeo"
           }
          ],
          "scattergl": [
           {
            "marker": {
             "colorbar": {
              "outlinewidth": 0,
              "ticks": ""
             }
            },
            "type": "scattergl"
           }
          ],
          "scattermapbox": [
           {
            "marker": {
             "colorbar": {
              "outlinewidth": 0,
              "ticks": ""
             }
            },
            "type": "scattermapbox"
           }
          ],
          "scatterpolar": [
           {
            "marker": {
             "colorbar": {
              "outlinewidth": 0,
              "ticks": ""
             }
            },
            "type": "scatterpolar"
           }
          ],
          "scatterpolargl": [
           {
            "marker": {
             "colorbar": {
              "outlinewidth": 0,
              "ticks": ""
             }
            },
            "type": "scatterpolargl"
           }
          ],
          "scatterternary": [
           {
            "marker": {
             "colorbar": {
              "outlinewidth": 0,
              "ticks": ""
             }
            },
            "type": "scatterternary"
           }
          ],
          "surface": [
           {
            "colorbar": {
             "outlinewidth": 0,
             "ticks": ""
            },
            "colorscale": [
             [
              0,
              "#0d0887"
             ],
             [
              0.1111111111111111,
              "#46039f"
             ],
             [
              0.2222222222222222,
              "#7201a8"
             ],
             [
              0.3333333333333333,
              "#9c179e"
             ],
             [
              0.4444444444444444,
              "#bd3786"
             ],
             [
              0.5555555555555556,
              "#d8576b"
             ],
             [
              0.6666666666666666,
              "#ed7953"
             ],
             [
              0.7777777777777778,
              "#fb9f3a"
             ],
             [
              0.8888888888888888,
              "#fdca26"
             ],
             [
              1,
              "#f0f921"
             ]
            ],
            "type": "surface"
           }
          ],
          "table": [
           {
            "cells": {
             "fill": {
              "color": "#EBF0F8"
             },
             "line": {
              "color": "white"
             }
            },
            "header": {
             "fill": {
              "color": "#C8D4E3"
             },
             "line": {
              "color": "white"
             }
            },
            "type": "table"
           }
          ]
         },
         "layout": {
          "annotationdefaults": {
           "arrowcolor": "#2a3f5f",
           "arrowhead": 0,
           "arrowwidth": 1
          },
          "autotypenumbers": "strict",
          "coloraxis": {
           "colorbar": {
            "outlinewidth": 0,
            "ticks": ""
           }
          },
          "colorscale": {
           "diverging": [
            [
             0,
             "#8e0152"
            ],
            [
             0.1,
             "#c51b7d"
            ],
            [
             0.2,
             "#de77ae"
            ],
            [
             0.3,
             "#f1b6da"
            ],
            [
             0.4,
             "#fde0ef"
            ],
            [
             0.5,
             "#f7f7f7"
            ],
            [
             0.6,
             "#e6f5d0"
            ],
            [
             0.7,
             "#b8e186"
            ],
            [
             0.8,
             "#7fbc41"
            ],
            [
             0.9,
             "#4d9221"
            ],
            [
             1,
             "#276419"
            ]
           ],
           "sequential": [
            [
             0,
             "#0d0887"
            ],
            [
             0.1111111111111111,
             "#46039f"
            ],
            [
             0.2222222222222222,
             "#7201a8"
            ],
            [
             0.3333333333333333,
             "#9c179e"
            ],
            [
             0.4444444444444444,
             "#bd3786"
            ],
            [
             0.5555555555555556,
             "#d8576b"
            ],
            [
             0.6666666666666666,
             "#ed7953"
            ],
            [
             0.7777777777777778,
             "#fb9f3a"
            ],
            [
             0.8888888888888888,
             "#fdca26"
            ],
            [
             1,
             "#f0f921"
            ]
           ],
           "sequentialminus": [
            [
             0,
             "#0d0887"
            ],
            [
             0.1111111111111111,
             "#46039f"
            ],
            [
             0.2222222222222222,
             "#7201a8"
            ],
            [
             0.3333333333333333,
             "#9c179e"
            ],
            [
             0.4444444444444444,
             "#bd3786"
            ],
            [
             0.5555555555555556,
             "#d8576b"
            ],
            [
             0.6666666666666666,
             "#ed7953"
            ],
            [
             0.7777777777777778,
             "#fb9f3a"
            ],
            [
             0.8888888888888888,
             "#fdca26"
            ],
            [
             1,
             "#f0f921"
            ]
           ]
          },
          "colorway": [
           "#636efa",
           "#EF553B",
           "#00cc96",
           "#ab63fa",
           "#FFA15A",
           "#19d3f3",
           "#FF6692",
           "#B6E880",
           "#FF97FF",
           "#FECB52"
          ],
          "font": {
           "color": "#2a3f5f"
          },
          "geo": {
           "bgcolor": "white",
           "lakecolor": "white",
           "landcolor": "#E5ECF6",
           "showlakes": true,
           "showland": true,
           "subunitcolor": "white"
          },
          "hoverlabel": {
           "align": "left"
          },
          "hovermode": "closest",
          "mapbox": {
           "style": "light"
          },
          "paper_bgcolor": "white",
          "plot_bgcolor": "#E5ECF6",
          "polar": {
           "angularaxis": {
            "gridcolor": "white",
            "linecolor": "white",
            "ticks": ""
           },
           "bgcolor": "#E5ECF6",
           "radialaxis": {
            "gridcolor": "white",
            "linecolor": "white",
            "ticks": ""
           }
          },
          "scene": {
           "xaxis": {
            "backgroundcolor": "#E5ECF6",
            "gridcolor": "white",
            "gridwidth": 2,
            "linecolor": "white",
            "showbackground": true,
            "ticks": "",
            "zerolinecolor": "white"
           },
           "yaxis": {
            "backgroundcolor": "#E5ECF6",
            "gridcolor": "white",
            "gridwidth": 2,
            "linecolor": "white",
            "showbackground": true,
            "ticks": "",
            "zerolinecolor": "white"
           },
           "zaxis": {
            "backgroundcolor": "#E5ECF6",
            "gridcolor": "white",
            "gridwidth": 2,
            "linecolor": "white",
            "showbackground": true,
            "ticks": "",
            "zerolinecolor": "white"
           }
          },
          "shapedefaults": {
           "line": {
            "color": "#2a3f5f"
           }
          },
          "ternary": {
           "aaxis": {
            "gridcolor": "white",
            "linecolor": "white",
            "ticks": ""
           },
           "baxis": {
            "gridcolor": "white",
            "linecolor": "white",
            "ticks": ""
           },
           "bgcolor": "#E5ECF6",
           "caxis": {
            "gridcolor": "white",
            "linecolor": "white",
            "ticks": ""
           }
          },
          "title": {
           "x": 0.05
          },
          "xaxis": {
           "automargin": true,
           "gridcolor": "white",
           "linecolor": "white",
           "ticks": "",
           "title": {
            "standoff": 15
           },
           "zerolinecolor": "white",
           "zerolinewidth": 2
          },
          "yaxis": {
           "automargin": true,
           "gridcolor": "white",
           "linecolor": "white",
           "ticks": "",
           "title": {
            "standoff": 15
           },
           "zerolinecolor": "white",
           "zerolinewidth": 2
          }
         }
        }
       }
      }
     },
     "metadata": {},
     "output_type": "display_data"
    }
   ],
   "source": [
    "df_outskirt_optimal = df_1.query(\"nearby_houses_count < 10 and grade >= 10 and long > -122.1\")\n",
    "df_outskirt_optimal.head()\n",
    "fig = px.scatter_mapbox(df_outskirt_optimal, lat='lat', lon='long', zoom=7.5,hover_name=\"zipcode\")\n",
    "fig.update_layout(mapbox_style=\"open-street-map\")"
   ]
  },
  {
   "cell_type": "code",
   "execution_count": 338,
   "metadata": {},
   "outputs": [
    {
     "data": {
      "text/plain": [
       "(103, 26)"
      ]
     },
     "execution_count": 338,
     "metadata": {},
     "output_type": "execute_result"
    }
   ],
   "source": [
    "df_outskirt_optimal.shape"
   ]
  },
  {
   "cell_type": "code",
   "execution_count": null,
   "metadata": {},
   "outputs": [],
   "source": [
    "sns.barplot(x=\"zipcode\",y=\"sold_for_price\",data=df_outskirt_optimal)\n",
    "plt.xticks(rotation = \"vertical\")"
   ]
  },
  {
   "cell_type": "markdown",
   "metadata": {},
   "source": [
    "### Ideen für Unterkunft während des Handelns:\n",
    "- Three times bigger lot than living size\n",
    "- In order to be able to switch quickly, if the FBI comes close: Buy 3 houses instead of one. --> Prices < 1,000,000$\n",
    "- Views = 0, damit wirklich niemand an dem Haus interessiert ist."
   ]
  },
  {
   "cell_type": "code",
   "execution_count": null,
   "metadata": {},
   "outputs": [],
   "source": [
    "df_select = df_outskirt_optimal.query(\"sqft_lot/sqft_living >= 3 and sold_for_price < 1000000 and view == 0\").sort_values(\"grade\",ascending=False)\n",
    "df_select.head(10)\n",
    "df_select.shape"
   ]
  },
  {
   "cell_type": "code",
   "execution_count": null,
   "metadata": {},
   "outputs": [],
   "source": [
    "fig = px.scatter_mapbox(df_select, lat='lat', lon='long', zoom=7.5,hover_name=\"zipcode\")\n",
    "fig.update_layout(mapbox_style=\"open-street-map\")"
   ]
  },
  {
   "cell_type": "code",
   "execution_count": null,
   "metadata": {},
   "outputs": [],
   "source": []
  }
 ],
 "metadata": {
  "kernelspec": {
   "display_name": ".venv",
   "language": "python",
   "name": "python3"
  },
  "language_info": {
   "codemirror_mode": {
    "name": "ipython",
    "version": 3
   },
   "file_extension": ".py",
   "mimetype": "text/x-python",
   "name": "python",
   "nbconvert_exporter": "python",
   "pygments_lexer": "ipython3",
   "version": "3.11.3"
  },
  "orig_nbformat": 4
 },
 "nbformat": 4,
 "nbformat_minor": 2
}
